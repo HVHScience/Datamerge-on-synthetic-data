{
 "cells": [
  {
   "cell_type": "code",
   "execution_count": 1,
   "id": "11376002-d2ba-4ec7-a0cd-42d10c44b5bf",
   "metadata": {},
   "outputs": [],
   "source": [
    "import pandas as pd\n",
    "import os\n",
    "import seaborn as sns\n",
    "from matplotlib import pyplot as plt\n",
    "from matplotlib.ticker import StrMethodFormatter\n",
    "from matplotlib.ticker import LinearLocator\n",
    "import numpy as np\n",
    "import matplotlib.gridspec as gridspec\n",
    "from scipy import stats\n",
    "\n",
    "%matplotlib inline "
   ]
  },
  {
   "cell_type": "markdown",
   "id": "3825799a-1bd0-4bb1-a510-47a8a71ac1a4",
   "metadata": {},
   "source": [
    "## importing and merging PCR datafrom COR"
   ]
  },
  {
   "cell_type": "code",
   "execution_count": 2,
   "id": "b94db231-b1d8-4687-892d-af267e327c14",
   "metadata": {},
   "outputs": [],
   "source": [
    "cor_data = pd.read_csv('../Data/Input/synthetic_COR_data.csv',sep = ',')"
   ]
  },
  {
   "cell_type": "code",
   "execution_count": 3,
   "id": "9b94fb61-d369-40af-a27a-e05d9da124de",
   "metadata": {},
   "outputs": [],
   "source": [
    "cor_data = cor_data.drop_duplicates(subset = 'Accession #', keep = 'last')"
   ]
  },
  {
   "cell_type": "code",
   "execution_count": 4,
   "id": "91141957-5fe2-40e6-9d75-69ea57258f21",
   "metadata": {},
   "outputs": [],
   "source": [
    "## Adding prefixes to every column in order distinuish the CT values\n",
    "floq_data = cor_data.copy().add_prefix('floq_')\n",
    "floq_data = floq_data.rename(columns= {'floq_Accession #': 'floq requisition number'})"
   ]
  },
  {
   "cell_type": "code",
   "execution_count": 5,
   "id": "c20485b0-5d0b-4a32-820a-ea65bad7ed32",
   "metadata": {},
   "outputs": [],
   "source": [
    "group1_evalyn_data = cor_data.copy().add_prefix('evalyn_')\n",
    "group1_evalyn_data = group1_evalyn_data.rename(columns = {'evalyn_Accession #':'evalyn requisition number'})"
   ]
  },
  {
   "cell_type": "markdown",
   "id": "952aaa63-e06f-40d6-8b90-afd769922495",
   "metadata": {},
   "source": [
    "## Importing group 1 masterark which contains the link between evalyn and floq/emily IDs."
   ]
  },
  {
   "cell_type": "code",
   "execution_count": 6,
   "id": "f0262b33-7466-4d33-9ca5-4b425865e43f",
   "metadata": {},
   "outputs": [],
   "source": [
    "#importing masterark with all requisition numbers and evalyn identities from studiegruppe 1(evalyn vs floqswap)\n",
    "group1_masterark = pd.read_csv('../Data/Input/synthetic_mastersheet.csv', sep = ',')\n",
    "group1_masterark['Spørgeskema ID'] = group1_masterark['Spørgeskema ID'].apply(lambda x: x.lower() if isinstance(x, str) else x)\n",
    "group1_masterark['Evalyn ID'] = group1_masterark['Evalyn ID'].apply(lambda x: x.upper() if isinstance(x, str) else x)"
   ]
  },
  {
   "cell_type": "code",
   "execution_count": 7,
   "id": "8201ece0-858c-4c3b-8d86-3ad038aa8488",
   "metadata": {},
   "outputs": [],
   "source": [
    "group1_masterark = group1_masterark.rename(columns = {'Spørgeskema ID': 'floq requisition number'})"
   ]
  },
  {
   "cell_type": "markdown",
   "id": "2e3bff67-4fd5-4a82-ac98-bb4b6e5c0dec",
   "metadata": {},
   "source": [
    "## Merging data from laboratory, contains the link between the evalyn ID and requsitionsnumber of the COR analysis."
   ]
  },
  {
   "cell_type": "code",
   "execution_count": 8,
   "id": "73e8c21b-c244-4971-ae67-49bc1d7bcbb3",
   "metadata": {
    "scrolled": true
   },
   "outputs": [],
   "source": [
    "molab = pd.read_csv('../Data/Input/synthetic_molab_file.csv', sep = ',')\n",
    "molab = molab.drop_duplicates(subset = 'Rekv.Nr.', keep = 'last')\n",
    "molab['Klinisk Info'] = molab['Klinisk Info'].apply(lambda x: x.upper()if isinstance(x, str) else x)\n",
    "evalyn_rek_numbers = molab.rename(columns={'Klinisk Info': 'Evalyn ID', 'Rekv.Nr.': 'evalyn requisition number'})"
   ]
  },
  {
   "cell_type": "markdown",
   "id": "91a5d4a7-d49e-4c5a-948c-b20a54fa68a8",
   "metadata": {},
   "source": [
    "## Importing questionaire data from group 1 which contains the date of sampling and requisition number from floq"
   ]
  },
  {
   "cell_type": "code",
   "execution_count": 9,
   "id": "8f425ec7-77a7-4e36-ae5c-a739da6a0ba6",
   "metadata": {},
   "outputs": [],
   "source": [
    "group1_questionaire_data = pd.read_csv('../Data/Input/synthetic_questionaire.csv', sep = ',')"
   ]
  },
  {
   "cell_type": "code",
   "execution_count": 10,
   "id": "88994411-616b-44b3-96af-d90847a39884",
   "metadata": {},
   "outputs": [],
   "source": [
    "group1_questionaire_data = group1_questionaire_data.rename(columns= {'Spørgeskema ID': 'floq requisition number'})"
   ]
  },
  {
   "cell_type": "code",
   "execution_count": 11,
   "id": "044d1168-3dac-4f86-a40f-2a6e5a528b59",
   "metadata": {},
   "outputs": [],
   "source": [
    "group1_questionaire_data = group1_questionaire_data[['floq requisition number', 'Dato for prøvetagning', 'Hvilken børste tog du først?']]"
   ]
  },
  {
   "cell_type": "markdown",
   "id": "39972283-44cf-4b50-97d0-6e6cdac3450e",
   "metadata": {},
   "source": [
    "## Group 1: Merging COR data with the masterark and laboratory data in order to link evalyn and floq data"
   ]
  },
  {
   "cell_type": "code",
   "execution_count": 12,
   "id": "31d62d1c-4ca2-4b01-93f8-7f02c31f3943",
   "metadata": {},
   "outputs": [],
   "source": [
    "first_step = group1_masterark.merge(floq_data, how = 'inner', on = ['floq requisition number'])"
   ]
  },
  {
   "cell_type": "code",
   "execution_count": 13,
   "id": "ab424df2-3809-4d00-b323-39c4be24a64a",
   "metadata": {},
   "outputs": [],
   "source": [
    "second_step = first_step.merge(evalyn_rek_numbers, how = 'inner', on = ['Evalyn ID'])"
   ]
  },
  {
   "cell_type": "code",
   "execution_count": 14,
   "id": "55c67032-4856-4b59-98ae-84fd1f68ccdd",
   "metadata": {},
   "outputs": [],
   "source": [
    "final_group_1 = second_step.merge(group1_evalyn_data, how = 'inner', on= ['evalyn requisition number'])"
   ]
  },
  {
   "cell_type": "markdown",
   "id": "74b7f274-577c-472d-b753-79c66bec64a7",
   "metadata": {},
   "source": [
    "## Merging central dataframe with questionaire data in order to include date of sampling. Subsequently, relevant collumns are converted to datetime datatype and time difference between sampling and analysis is registeret in the delta time column "
   ]
  },
  {
   "cell_type": "markdown",
   "id": "a0eb0ab9-06ee-41d2-9a3d-5d5b74f2edf8",
   "metadata": {},
   "source": [
    "### Group 1"
   ]
  },
  {
   "cell_type": "code",
   "execution_count": 15,
   "id": "2fb73819-40be-4810-b984-c563436184f7",
   "metadata": {},
   "outputs": [],
   "source": [
    "final_group_1['floq_Test Result Time'] = final_group_1['floq_Test Result Time'].str.replace('-','/')\n",
    "group1_fourth_step = final_group_1.copy().merge(group1_questionaire_data, how = 'inner', on = ['floq requisition number'])"
   ]
  },
  {
   "cell_type": "code",
   "execution_count": 16,
   "id": "86aabf0b-9b87-481a-86ae-44f6719ffcc1",
   "metadata": {},
   "outputs": [],
   "source": [
    "group1_fourth_step['time of analysis'] = pd.to_datetime(group1_fourth_step['floq_Test Result Time'], format = 'mixed')"
   ]
  },
  {
   "cell_type": "code",
   "execution_count": 17,
   "id": "e992488b-22b2-408e-80bd-41e2383e874f",
   "metadata": {},
   "outputs": [],
   "source": [
    "group1_fourth_step['time of testing'] = pd.to_datetime(group1_fourth_step['Dato for prøvetagning'], format = '%d-%m-%y', errors='coerce')"
   ]
  },
  {
   "cell_type": "code",
   "execution_count": 18,
   "id": "d44fbf10-9f0d-4ebc-9fb3-2a4e469304b9",
   "metadata": {},
   "outputs": [],
   "source": [
    "group1_fourth_step['delta time'] = (group1_fourth_step['time of analysis'] - group1_fourth_step['time of testing']).dt.days"
   ]
  },
  {
   "cell_type": "markdown",
   "id": "261d079d-9e6b-45de-84e1-56633c76ed9f",
   "metadata": {},
   "source": [
    "## Creating contingency tables for all evalyn vs floq outcome, all tests, and for evalyn as first sample and floqswab as first sample. "
   ]
  },
  {
   "cell_type": "code",
   "execution_count": 19,
   "id": "3ebd855a-d421-4b63-b8f7-d314a83fc477",
   "metadata": {},
   "outputs": [],
   "source": [
    "def create_contingency(relevant_column_1, relevant_column_2, title):\n",
    "    contingency_table = pd.crosstab(relevant_column_1, relevant_column_2, margins = True)\n",
    "    contingency_table = contingency_table.map(lambda x: f'{x} ({round((x / len(evalyn_first)*100),2)} %)')\n",
    "    contingency_table.to_csv(f'Output/{title}.csv')"
   ]
  },
  {
   "cell_type": "code",
   "execution_count": 20,
   "id": "4c4a6b7e-dab0-4797-b534-76c792dd598a",
   "metadata": {},
   "outputs": [],
   "source": [
    "contingency = pd.crosstab(final_group_1['floq_HPV HR Result'], final_group_1['evalyn_HPV HR Result'], margins = True)"
   ]
  },
  {
   "cell_type": "code",
   "execution_count": 21,
   "id": "e6ad8929-1aaa-42f2-ad01-b82bfefeb552",
   "metadata": {},
   "outputs": [],
   "source": [
    "contingency = contingency.map(lambda x: f'{x} ({round((x / len(final_group_1)*100),2)} %)')"
   ]
  },
  {
   "cell_type": "code",
   "execution_count": 22,
   "id": "5d7a319b-8411-42bb-a1f6-d2e3ba6d6721",
   "metadata": {},
   "outputs": [
    {
     "data": {
      "text/html": [
       "<div>\n",
       "<style scoped>\n",
       "    .dataframe tbody tr th:only-of-type {\n",
       "        vertical-align: middle;\n",
       "    }\n",
       "\n",
       "    .dataframe tbody tr th {\n",
       "        vertical-align: top;\n",
       "    }\n",
       "\n",
       "    .dataframe thead th {\n",
       "        text-align: right;\n",
       "    }\n",
       "</style>\n",
       "<table border=\"1\" class=\"dataframe\">\n",
       "  <thead>\n",
       "    <tr style=\"text-align: right;\">\n",
       "      <th>evalyn_HPV HR Result</th>\n",
       "      <th>Neg</th>\n",
       "      <th>Pos</th>\n",
       "      <th>All</th>\n",
       "    </tr>\n",
       "    <tr>\n",
       "      <th>floq_HPV HR Result</th>\n",
       "      <th></th>\n",
       "      <th></th>\n",
       "      <th></th>\n",
       "    </tr>\n",
       "  </thead>\n",
       "  <tbody>\n",
       "    <tr>\n",
       "      <th>Neg</th>\n",
       "      <td>45 (45.0 %)</td>\n",
       "      <td>24 (24.0 %)</td>\n",
       "      <td>69 (69.0 %)</td>\n",
       "    </tr>\n",
       "    <tr>\n",
       "      <th>Pos</th>\n",
       "      <td>22 (22.0 %)</td>\n",
       "      <td>9 (9.0 %)</td>\n",
       "      <td>31 (31.0 %)</td>\n",
       "    </tr>\n",
       "    <tr>\n",
       "      <th>All</th>\n",
       "      <td>67 (67.0 %)</td>\n",
       "      <td>33 (33.0 %)</td>\n",
       "      <td>100 (100.0 %)</td>\n",
       "    </tr>\n",
       "  </tbody>\n",
       "</table>\n",
       "</div>"
      ],
      "text/plain": [
       "evalyn_HPV HR Result          Neg          Pos            All\n",
       "floq_HPV HR Result                                           \n",
       "Neg                   45 (45.0 %)  24 (24.0 %)    69 (69.0 %)\n",
       "Pos                   22 (22.0 %)    9 (9.0 %)    31 (31.0 %)\n",
       "All                   67 (67.0 %)  33 (33.0 %)  100 (100.0 %)"
      ]
     },
     "execution_count": 22,
     "metadata": {},
     "output_type": "execute_result"
    }
   ],
   "source": [
    "contingency"
   ]
  }
 ],
 "metadata": {
  "kernelspec": {
   "display_name": "Python 3 (ipykernel)",
   "language": "python",
   "name": "python3"
  },
  "language_info": {
   "codemirror_mode": {
    "name": "ipython",
    "version": 3
   },
   "file_extension": ".py",
   "mimetype": "text/x-python",
   "name": "python",
   "nbconvert_exporter": "python",
   "pygments_lexer": "ipython3",
   "version": "3.10.5"
  }
 },
 "nbformat": 4,
 "nbformat_minor": 5
}
