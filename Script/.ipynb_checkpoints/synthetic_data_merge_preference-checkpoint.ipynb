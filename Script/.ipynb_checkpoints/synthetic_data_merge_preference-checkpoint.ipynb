{
 "cells": [
  {
   "cell_type": "code",
   "execution_count": 115,
   "id": "11376002-d2ba-4ec7-a0cd-42d10c44b5bf",
   "metadata": {},
   "outputs": [],
   "source": [
    "import pandas as pd\n",
    "import os\n",
    "import seaborn as sns\n",
    "from matplotlib import pyplot as plt\n",
    "from matplotlib.ticker import StrMethodFormatter\n",
    "from matplotlib.ticker import LinearLocator\n",
    "import numpy as np\n",
    "import matplotlib.gridspec as gridspec\n",
    "from scipy import stats\n",
    "\n",
    "%matplotlib inline "
   ]
  },
  {
   "cell_type": "markdown",
   "id": "3825799a-1bd0-4bb1-a510-47a8a71ac1a4",
   "metadata": {},
   "source": [
    "## importing and merging PCR datafrom COR"
   ]
  },
  {
   "cell_type": "code",
   "execution_count": 116,
   "id": "b94db231-b1d8-4687-892d-af267e327c14",
   "metadata": {},
   "outputs": [],
   "source": [
    "cor_data_2 = pd.read_csv('Input/09_18_2024-Between dates COR.csv',sep = ',')\n",
    "cor_data_3 = pd.read_csv('Input/05_27_2024-Between dates COR.csv', sep = ';')\n",
    "cor_data_4 = pd.read_csv('Input/05_13_2024-Between dates COR.csv', sep= ';')\n",
    "cor_data_5 = pd.read_csv('Input/06_17_2024-Between dates.csv', sep = ';')\n",
    "cor_data_6 = pd.read_csv('Input/07_05_2024-Between dates COR.csv', sep = ';')\n",
    "cor_data_7 = pd.read_csv('Input/07_18_2024-Between dates COR.csv', sep = ';')\n",
    "cor_data_8 = pd.read_csv('Input/07_30_2024-Between dates COR.csv', sep = ';')\n",
    "cor_data_9 = pd.read_csv('Input/08_29_2024-Between dates COR.csv', sep = ';')\n",
    "cor_data_10 = pd.read_csv('Input/08_29_2024-Between dates COR.csv', sep = ';')\n",
    "cor_data_11 = pd.read_csv('Input/10_15_2024-Between dates.csv')\n",
    "cor_data_12 = pd.read_csv('Input/10_15_2024-Between dates no 2.csv')\n",
    "merged_data = pd.concat([cor_data_2, cor_data_3, cor_data_4, cor_data_5, cor_data_6, cor_data_7, cor_data_8, cor_data_9, cor_data_10, cor_data_11, cor_data_12])"
   ]
  },
  {
   "cell_type": "code",
   "execution_count": 117,
   "id": "9b94fb61-d369-40af-a27a-e05d9da124de",
   "metadata": {},
   "outputs": [],
   "source": [
    "merged_data = merged_data.drop_duplicates(subset = 'Accession #', keep = 'last')"
   ]
  },
  {
   "cell_type": "code",
   "execution_count": 118,
   "id": "808833e6-6b60-4359-b837-b5f4d0a45b71",
   "metadata": {},
   "outputs": [],
   "source": [
    "#merged_data.to_csv('merged data.csv', index = False)"
   ]
  },
  {
   "cell_type": "raw",
   "id": "9972b4ae-43ae-47a0-a796-c079e29cc25d",
   "metadata": {},
   "source": [
    "## Adding prefixes to every column in order distinuish the CT values"
   ]
  },
  {
   "cell_type": "code",
   "execution_count": 119,
   "id": "91141957-5fe2-40e6-9d75-69ea57258f21",
   "metadata": {},
   "outputs": [],
   "source": [
    "floq_data = merged_data.copy().add_prefix('floq_')\n",
    "floq_data = floq_data.rename(columns= {'floq_Accession #': 'floq requisition number'})"
   ]
  },
  {
   "cell_type": "code",
   "execution_count": 120,
   "id": "c20485b0-5d0b-4a32-820a-ea65bad7ed32",
   "metadata": {},
   "outputs": [],
   "source": [
    "group1_evalyn_data = merged_data.copy().add_prefix('evalyn_')\n",
    "group1_evalyn_data = group1_evalyn_data.rename(columns = {'evalyn_Accession #':'evalyn requisition number'})"
   ]
  },
  {
   "cell_type": "code",
   "execution_count": 121,
   "id": "8cb77e9e-41a3-48b2-bbfa-40479f8a9a03",
   "metadata": {},
   "outputs": [],
   "source": [
    "group2_evalyn_data = merged_data.copy().add_prefix('evalyn_')\n",
    "group2_evalyn_data = group2_evalyn_data.rename(columns = {'evalyn_Accession #':'evalyn requisition number'})"
   ]
  },
  {
   "cell_type": "code",
   "execution_count": 122,
   "id": "0b19fb68-dd86-4a2b-8464-2d923f304814",
   "metadata": {},
   "outputs": [],
   "source": [
    "emily_data = merged_data.copy().add_prefix('emily_')\n",
    "emily_data = emily_data.rename(columns= {'emily_Accession #': 'Emily requisition number'})"
   ]
  },
  {
   "cell_type": "markdown",
   "id": "952aaa63-e06f-40d6-8b90-afd769922495",
   "metadata": {},
   "source": [
    "## Importing group 1 masterark which contains the link between evalyn and floq/emily IDs."
   ]
  },
  {
   "cell_type": "code",
   "execution_count": 123,
   "id": "f0262b33-7466-4d33-9ca5-4b425865e43f",
   "metadata": {},
   "outputs": [],
   "source": [
    "#importing masterark with all requisition numbers and evalyn identities from studiegruppe 1(evalyn vs floqswap)\n",
    "group1_masterark = pd.read_csv(\"Input/Masterark børsteID evalyn vs floq.csv\", sep = ';')\n",
    "group1_masterark = group1_masterark.drop(labels= ['FLOQSwab ID', 'M rør', 'Unnamed: 5', 'Tjek ', 'Unnamed: 7','Unnamed: 8', 'Sampling rækkefølge.1', 'Unnamed: 10', 'Antal','Unnamed: 12'], axis = 'columns')\n",
    "group1_masterark['Spørgeskema ID'] = group1_masterark['Spørgeskema ID'].apply(lambda x: x.lower() if isinstance(x, str) else x)\n",
    "group1_masterark['Evalyn ID'] = group1_masterark['Evalyn ID'].apply(lambda x: x.upper() if isinstance(x, str) else x)"
   ]
  },
  {
   "cell_type": "code",
   "execution_count": 125,
   "id": "8201ece0-858c-4c3b-8d86-3ad038aa8488",
   "metadata": {},
   "outputs": [],
   "source": [
    "group1_masterark = group1_masterark.rename(columns = {'Spørgeskema ID': 'floq requisition number'})"
   ]
  },
  {
   "cell_type": "markdown",
   "id": "36b436f8-47cb-4d23-8e62-434170ac5893",
   "metadata": {},
   "source": [
    "## Importing group 2 masterark which contains the link between evalyn and floq/emily IDs."
   ]
  },
  {
   "cell_type": "code",
   "execution_count": 126,
   "id": "9c17a052-a088-41e7-a954-6630d0f51a97",
   "metadata": {},
   "outputs": [],
   "source": [
    "#importing masterark with all requisition numbers and evalyn identities from studiegruppe 1(evalyn vs floqswap)\n",
    "group2_masterark = pd.read_csv('Input/Masterark børsteID evalyn vs emily.csv', sep = ';')"
   ]
  },
  {
   "cell_type": "code",
   "execution_count": 127,
   "id": "28e890c7-81a5-4947-be1b-018f2d7e5d3f",
   "metadata": {},
   "outputs": [],
   "source": [
    "group2_masterark = group2_masterark.drop(labels= ['Emily ID', 'M rør', 'Unnamed: 5', 'Tjek', 'Unnamed: 7','Unnamed: 8', 'Sampling rækkefølge.1', 'Unnamed: 10', 'Antal','Unnamed: 12'], axis = 'columns')\n",
    "group2_masterark['Spørgeskema ID'] = group2_masterark['Spørgeskema ID'].apply(lambda x: x.lower() if isinstance(x, str) else x)\n",
    "group2_masterark['Evalyn ID'] = group2_masterark['Evalyn ID'].apply(lambda x: x.upper() if isinstance(x, str) else x)\n",
    "group2_masterark = group2_masterark.rename(columns = {'Spørgeskema ID': 'Emily requisition number'})"
   ]
  },
  {
   "cell_type": "markdown",
   "id": "901f339b-adc5-44bf-8e7c-63a7b7e56495",
   "metadata": {},
   "source": [
    "## Importing group 3 masterark which contains the link between floq and emily IDs."
   ]
  },
  {
   "cell_type": "code",
   "execution_count": 128,
   "id": "13d800b4-caca-48bc-b31a-d8b706321f7c",
   "metadata": {},
   "outputs": [],
   "source": [
    "group3_masterark = pd.read_csv('Input/Masterark børsteID floq vs emily.csv', sep = ';')\n",
    "group3_masterark = group3_masterark.drop(labels= ['Unnamed: 4', 'Tjek', 'Unnamed: 6','HUSK! FLOQSwab og Emily skal sendes tilbage uden M-rør - ellers kan de ikke skilles ad når de sendes tilbage til lab',\n",
    "'Unnamed: 8', 'Unnamed: 9', 'Unnamed: 10', 'Unnamed: 11'], axis = 'columns')\n",
    "group3_masterark = group3_masterark.rename(columns = {'Spørgeskema ID': 'Emily requisition number'})\n",
    "group3_masterark = group3_masterark.dropna()\n",
    "group3_masterark['FLOQSwab ID'] = group3_masterark['FLOQSwab ID'].astype(int)"
   ]
  },
  {
   "cell_type": "markdown",
   "id": "2e3bff67-4fd5-4a82-ac98-bb4b6e5c0dec",
   "metadata": {},
   "source": [
    "## Merging data from laboratory, contains the link between the evalyn ID and requsitionsnumber of the COR analysis."
   ]
  },
  {
   "cell_type": "code",
   "execution_count": 129,
   "id": "73e8c21b-c244-4971-ae67-49bc1d7bcbb3",
   "metadata": {
    "scrolled": true
   },
   "outputs": [],
   "source": [
    "molab_search_1 = pd.read_csv('Input/COR DATA 30.06.2024 - MolabSearch 17062024-30062024.csv', sep = ';')\n",
    "molab_search_2 = pd.read_csv('Input/COR DATA11.6.2024 - MolabSearch 01052024-27052024.csv', sep = ';')\n",
    "molab_search_3 = pd.read_csv('Input/COR DATA17.6.2024 - MolabSearch 28052024-16062024.csv', sep = ';')\n",
    "molab_search_4 = pd.read_csv('Input/COR data 18.7.2024 - MolabSearch 30062024-14072024.csv', sep = ';')\n",
    "molab_search_5 = pd.read_csv('Input/COR data30.7.2024 - MolabSearch 14072024-28072024.csv', sep = ';')\n",
    "molab_search_6 = pd.read_csv('Input/COR data29.8.2024 - MolabSearch 28072024-25082024.csv', sep = ';')\n",
    "molab_search_7 = pd.read_csv('Input/COR data18.9.2024 - MolabSearch 250824-150824.csv', sep = ';')\n",
    "molab_search_8 = pd.read_csv('Input/COR data15.10.2024 - MolabSearch 15092024-1302024.csv', sep = ';')\n",
    "merged_molab = pd.concat([molab_search_1, molab_search_2, molab_search_3, molab_search_4, molab_search_5, molab_search_6, molab_search_7, molab_search_8])\n",
    "merged_molab = merged_molab.drop_duplicates(subset = 'Rekv.Nr.', keep = 'last')\n",
    "merged_molab['Klinisk Info'] = merged_molab['Klinisk Info'].apply(lambda x: x.upper()if isinstance(x, str) else x)\n",
    "evalyn_rek_numbers = merged_molab.rename(columns={'Klinisk Info': 'Evalyn ID', 'Rekv.Nr.': 'evalyn requisition number'})"
   ]
  },
  {
   "cell_type": "code",
   "execution_count": 130,
   "id": "1d1182e1-1014-453a-8727-1d2cea493fc1",
   "metadata": {},
   "outputs": [
    {
     "data": {
      "text/plain": [
       "Index(['PrøveType', 'Rekv.Nr.', 'Status', 'CPR', 'Alder', 'Dato', 'Tid',\n",
       "       'Klinisk Info'],\n",
       "      dtype='object')"
      ]
     },
     "execution_count": 130,
     "metadata": {},
     "output_type": "execute_result"
    }
   ],
   "source": [
    "molab_search_1.columns"
   ]
  },
  {
   "cell_type": "code",
   "execution_count": 131,
   "id": "d7d648bf-bc17-4576-915f-88cec178c276",
   "metadata": {},
   "outputs": [],
   "source": [
    "merged_molab.to_csv('merged molab.csv', index=False)"
   ]
  },
  {
   "cell_type": "markdown",
   "id": "91a5d4a7-d49e-4c5a-948c-b20a54fa68a8",
   "metadata": {},
   "source": [
    "## Importing questionaire data from group 1 which contains the date of sampling and requisition number from floq"
   ]
  },
  {
   "cell_type": "code",
   "execution_count": 132,
   "id": "8f425ec7-77a7-4e36-ae5c-a739da6a0ba6",
   "metadata": {},
   "outputs": [],
   "source": [
    "group1_questionaire_data = pd.read_csv('Input/Spørgeskema Studiegruppe 1 evalyn vs floq masterark redigeret af EAND.csv', sep = ';')"
   ]
  },
  {
   "cell_type": "code",
   "execution_count": 133,
   "id": "88994411-616b-44b3-96af-d90847a39884",
   "metadata": {},
   "outputs": [],
   "source": [
    "group1_questionaire_data = group1_questionaire_data.rename(columns= {'Spørgeskema ID': 'floq requisition number'})"
   ]
  },
  {
   "cell_type": "code",
   "execution_count": 134,
   "id": "044d1168-3dac-4f86-a40f-2a6e5a528b59",
   "metadata": {},
   "outputs": [],
   "source": [
    "group1_questionaire_data = group1_questionaire_data[['floq requisition number', 'Dato for prøvetagning', 'Hvilken børste tog du først?']]"
   ]
  },
  {
   "cell_type": "markdown",
   "id": "07408561-98fd-4c6a-8798-0b77976aad58",
   "metadata": {},
   "source": [
    "## Importing questionaire data from group 2 which contains the date of sampling and requisition number from emily"
   ]
  },
  {
   "cell_type": "code",
   "execution_count": 135,
   "id": "fda2ec36-84d1-4ca3-9057-2781dd1232a3",
   "metadata": {},
   "outputs": [],
   "source": [
    "group2_questionaire_data = pd.read_csv('Input/Spørgeskema Studiegruppe 2 evalyn vs emily masterark redigeret af EAND.csv', sep = ';')"
   ]
  },
  {
   "cell_type": "code",
   "execution_count": 136,
   "id": "02ecc0ae-c0c1-4b0b-a6e0-c4fbf2be095b",
   "metadata": {},
   "outputs": [],
   "source": [
    "group2_questionaire_data = group2_questionaire_data.rename(columns= {'Spørgeskema ID': 'Emily requisition number'})"
   ]
  },
  {
   "cell_type": "code",
   "execution_count": 137,
   "id": "6f36ee59-715a-4922-ab2c-a53e8ee1da96",
   "metadata": {},
   "outputs": [],
   "source": [
    "group2_questionaire_data = group2_questionaire_data[['Emily requisition number', 'Dato for prøvetagning', 'Hvilken børste tog du først?']]"
   ]
  },
  {
   "cell_type": "markdown",
   "id": "f1c31fad-32cb-4c3b-853f-730c06422c2b",
   "metadata": {},
   "source": [
    "## Importing questionaire data from group 3 which contains the date of sampling and requisition number from emily"
   ]
  },
  {
   "cell_type": "code",
   "execution_count": 138,
   "id": "8595965b-5dfd-405f-bb4b-e9e83283bac1",
   "metadata": {},
   "outputs": [],
   "source": [
    "group3_questionaire_data = pd.read_csv('Input/Spørgeskema Studiegruppe 3 floq vs emily masterark redigeret af EAND.csv', sep = ';')"
   ]
  },
  {
   "cell_type": "code",
   "execution_count": 139,
   "id": "46cedc4c-4120-416c-a2f7-b1f3298c49fb",
   "metadata": {},
   "outputs": [],
   "source": [
    "group3_questionaire_data  = group3_questionaire_data.rename(columns= {'Spørgeskema ID': 'Emily requisition number'})"
   ]
  },
  {
   "cell_type": "code",
   "execution_count": 140,
   "id": "015a0037-50a8-4343-a660-fdb37a16eec7",
   "metadata": {},
   "outputs": [],
   "source": [
    "group3_questionaire_data = group3_questionaire_data[['Emily requisition number', 'Dato for prøvetagning', 'Hvilken børste tog du først?']]"
   ]
  },
  {
   "cell_type": "markdown",
   "id": "39972283-44cf-4b50-97d0-6e6cdac3450e",
   "metadata": {},
   "source": [
    "## Group 1: Merging COR data with the masterark and laboratory data in order to link evalyn and floq data"
   ]
  },
  {
   "cell_type": "code",
   "execution_count": 141,
   "id": "31d62d1c-4ca2-4b01-93f8-7f02c31f3943",
   "metadata": {},
   "outputs": [],
   "source": [
    "first_step = group1_masterark.merge(floq_data, how = 'inner', on = ['floq requisition number'])"
   ]
  },
  {
   "cell_type": "code",
   "execution_count": 142,
   "id": "ab424df2-3809-4d00-b323-39c4be24a64a",
   "metadata": {},
   "outputs": [],
   "source": [
    "second_step = first_step.merge(evalyn_rek_numbers, how = 'inner', on = ['Evalyn ID'])"
   ]
  },
  {
   "cell_type": "code",
   "execution_count": 143,
   "id": "55c67032-4856-4b59-98ae-84fd1f68ccdd",
   "metadata": {},
   "outputs": [],
   "source": [
    "final_group_1 = second_step.merge(group1_evalyn_data, how = 'inner', on= ['evalyn requisition number'])"
   ]
  },
  {
   "cell_type": "markdown",
   "id": "b71012f8-2770-45e3-8be6-df4481072d89",
   "metadata": {},
   "source": [
    "## Group 2: Merging COR data with the masterark and laboratory data in order to link evalyn and emily data"
   ]
  },
  {
   "cell_type": "code",
   "execution_count": 144,
   "id": "530a38ab-11a0-4951-aa56-864647e3d1a5",
   "metadata": {},
   "outputs": [],
   "source": [
    "first_step = group2_masterark.merge(emily_data, how = 'inner', on = ['Emily requisition number'])"
   ]
  },
  {
   "cell_type": "code",
   "execution_count": 145,
   "id": "751d1e65-4d31-4946-b205-3d9ca9f17561",
   "metadata": {},
   "outputs": [],
   "source": [
    "second_step = first_step.merge(evalyn_rek_numbers, how = 'inner', on = ['Evalyn ID'])"
   ]
  },
  {
   "cell_type": "code",
   "execution_count": 146,
   "id": "2db2ee89-bb74-4ef4-8c10-39024b30689e",
   "metadata": {},
   "outputs": [],
   "source": [
    "final_group_2 = second_step.merge(group2_evalyn_data, how = 'inner', on= ['evalyn requisition number'])"
   ]
  },
  {
   "cell_type": "markdown",
   "id": "b2e4f587-c961-4ccc-a070-2cdf3c9d39c7",
   "metadata": {},
   "source": [
    "## Group 3: Merging COR data with the masterark and laboratory data in order to link evalyn and emily data"
   ]
  },
  {
   "cell_type": "code",
   "execution_count": 147,
   "id": "d0636775-9211-4175-b4ee-ec4fedba0700",
   "metadata": {},
   "outputs": [],
   "source": [
    "first_step = group3_masterark.merge(emily_data, how = 'inner', on = ['Emily requisition number'])"
   ]
  },
  {
   "cell_type": "code",
   "execution_count": 148,
   "id": "e91b31ae-9cac-44f2-bd13-04c62d2f8348",
   "metadata": {},
   "outputs": [],
   "source": [
    "first_step['FLOQSwab ID'] = first_step['FLOQSwab ID'].astype(str)"
   ]
  },
  {
   "cell_type": "code",
   "execution_count": 149,
   "id": "9aeafc1f-4a9f-4cb2-b353-384d619d1230",
   "metadata": {},
   "outputs": [],
   "source": [
    "floq_rek_numbers = evalyn_rek_numbers.copy()\n",
    "floq_rek_numbers = floq_rek_numbers.rename(columns = {'evalyn requisition number': 'floq requisition number', 'Evalyn ID': 'FLOQSwab ID'})"
   ]
  },
  {
   "cell_type": "code",
   "execution_count": 150,
   "id": "40154ed3-039a-49a0-95c1-95e46956f0a6",
   "metadata": {},
   "outputs": [],
   "source": [
    "second_step = first_step.merge(floq_rek_numbers, how = 'inner', on = ['FLOQSwab ID'])"
   ]
  },
  {
   "cell_type": "code",
   "execution_count": 151,
   "id": "b3c140a5-442e-4716-8577-5ca8acad4470",
   "metadata": {},
   "outputs": [],
   "source": [
    "final_group_3 = second_step.merge(floq_data, how = 'inner', on= ['floq requisition number'])\n",
    "#final_group_3.to_csv('Output/mergede præference data floq vs emily.csv')"
   ]
  },
  {
   "cell_type": "markdown",
   "id": "74b7f274-577c-472d-b753-79c66bec64a7",
   "metadata": {},
   "source": [
    "## Merging central dataframe with questionaire data in order to include date of sampling. Subsequently, relevant collumns are converted to datetime datatype and time difference between sampling and analysis is registeret in the delta time column "
   ]
  },
  {
   "cell_type": "markdown",
   "id": "a0eb0ab9-06ee-41d2-9a3d-5d5b74f2edf8",
   "metadata": {},
   "source": [
    "### Group 1"
   ]
  },
  {
   "cell_type": "code",
   "execution_count": 152,
   "id": "2fb73819-40be-4810-b984-c563436184f7",
   "metadata": {},
   "outputs": [],
   "source": [
    "final_group_1['floq_Test Result Time'] = final_group_1['floq_Test Result Time'].str.replace('-','/')\n",
    "group1_fourth_step = final_group_1.copy().merge(group1_questionaire_data, how = 'inner', on = ['floq requisition number'])"
   ]
  },
  {
   "cell_type": "code",
   "execution_count": 153,
   "id": "86aabf0b-9b87-481a-86ae-44f6719ffcc1",
   "metadata": {},
   "outputs": [],
   "source": [
    "group1_fourth_step['time of analysis'] = pd.to_datetime(group1_fourth_step['floq_Test Result Time'], format = 'mixed')"
   ]
  },
  {
   "cell_type": "code",
   "execution_count": 154,
   "id": "e992488b-22b2-408e-80bd-41e2383e874f",
   "metadata": {},
   "outputs": [],
   "source": [
    "group1_fourth_step['time of testing'] = pd.to_datetime(group1_fourth_step['Dato for prøvetagning'], format = '%d-%m-%y', errors='coerce')"
   ]
  },
  {
   "cell_type": "code",
   "execution_count": 155,
   "id": "d44fbf10-9f0d-4ebc-9fb3-2a4e469304b9",
   "metadata": {},
   "outputs": [],
   "source": [
    "group1_fourth_step['delta time'] = (group1_fourth_step['time of analysis'] - group1_fourth_step['time of testing']).dt.days"
   ]
  },
  {
   "cell_type": "code",
   "execution_count": 156,
   "id": "f47e3fb2-7917-4b4c-937d-076b2e3bb7c1",
   "metadata": {},
   "outputs": [],
   "source": [
    "group1_fourth_step.to_csv('output/group 1 final.csv', index = False)"
   ]
  },
  {
   "cell_type": "markdown",
   "id": "bdc023c9-1225-4ce1-9191-70638e385dcf",
   "metadata": {},
   "source": [
    "### Group 2"
   ]
  },
  {
   "cell_type": "code",
   "execution_count": 157,
   "id": "977b5310-a5b6-4872-9b2e-a26d36e01544",
   "metadata": {},
   "outputs": [],
   "source": [
    "final_group_2['emily_Test Result Time'] = final_group_2['emily_Test Result Time'].str.replace('-','/')\n",
    "group2_fourth_step = final_group_2.copy().merge(group2_questionaire_data, how = 'inner', on = ['Emily requisition number'])"
   ]
  },
  {
   "cell_type": "code",
   "execution_count": 158,
   "id": "7b3ef51e-d078-40d6-b0ef-b4ecf814eb55",
   "metadata": {},
   "outputs": [],
   "source": [
    "group2_fourth_step['time of analysis'] = pd.to_datetime(group2_fourth_step['emily_Test Result Time'], format = 'mixed')"
   ]
  },
  {
   "cell_type": "code",
   "execution_count": 159,
   "id": "8401827d-29cb-461b-8517-c34040d316fc",
   "metadata": {},
   "outputs": [],
   "source": [
    "group2_fourth_step['time of testing'] = pd.to_datetime(group2_fourth_step['Dato for prøvetagning'], format = '%d-%m-%y', errors='coerce')"
   ]
  },
  {
   "cell_type": "code",
   "execution_count": 160,
   "id": "39dd3b95-8e14-409d-8ee2-04c5e48a33a4",
   "metadata": {},
   "outputs": [],
   "source": [
    "group2_fourth_step['delta time'] = (group2_fourth_step['time of analysis'] - group2_fourth_step['time of testing']).dt.days"
   ]
  },
  {
   "cell_type": "code",
   "execution_count": 161,
   "id": "71fe49a8-d562-45b9-afc5-0d83e8a0b6d5",
   "metadata": {},
   "outputs": [],
   "source": [
    "group2_fourth_step.to_csv('output/group 2 final.csv', index = False)"
   ]
  },
  {
   "cell_type": "markdown",
   "id": "6fd6633a-4e4d-45c6-8311-86c0e2806905",
   "metadata": {},
   "source": [
    "## Group 3"
   ]
  },
  {
   "cell_type": "code",
   "execution_count": 162,
   "id": "72a52468-4d44-4086-a6eb-7fce18d51759",
   "metadata": {},
   "outputs": [],
   "source": [
    "final_group_3['emily_Test Result Time'] = final_group_3['emily_Test Result Time'].str.replace('-', '/')\n",
    "group3_fourth_step = final_group_3.copy().merge(group3_questionaire_data, how = 'inner', on = ['Emily requisition number'])"
   ]
  },
  {
   "cell_type": "code",
   "execution_count": 163,
   "id": "2b0ed6f1-4ef8-4d3c-8ca1-db0512dbc74e",
   "metadata": {},
   "outputs": [],
   "source": [
    "group3_fourth_step['time of analysis'] = pd.to_datetime(group3_fourth_step['emily_Test Result Time'], format = 'mixed')"
   ]
  },
  {
   "cell_type": "code",
   "execution_count": 164,
   "id": "da2551e7-9c3e-4b6f-ad32-5f87d4d7e460",
   "metadata": {},
   "outputs": [],
   "source": [
    "group3_fourth_step['time of testing'] = pd.to_datetime(group3_fourth_step['Dato for prøvetagning'], format = '%d-%m-%y', errors='coerce')"
   ]
  },
  {
   "cell_type": "code",
   "execution_count": 165,
   "id": "8dda4b38-24ef-44c6-a372-54ff26986a45",
   "metadata": {},
   "outputs": [],
   "source": [
    "group3_fourth_step['delta time'] = (group3_fourth_step['time of analysis'] - group3_fourth_step['time of testing']).dt.days"
   ]
  },
  {
   "cell_type": "code",
   "execution_count": 166,
   "id": "05dace51-ea84-4feb-ab1f-431f5dd8f0d0",
   "metadata": {},
   "outputs": [],
   "source": [
    "group3_fourth_step.to_csv('output/group 3 final.csv', index = False)"
   ]
  },
  {
   "cell_type": "markdown",
   "id": "8f6e8e8b-16c5-4c08-891b-7dd283d1ad29",
   "metadata": {},
   "source": [
    "## Double checking data"
   ]
  },
  {
   "cell_type": "code",
   "execution_count": 167,
   "id": "fca2599c-8831-4693-a0c3-8745a6058af6",
   "metadata": {},
   "outputs": [
    {
     "name": "stdout",
     "output_type": "stream",
     "text": [
      "24hvh905620\n",
      "24hvh906122\n",
      "24hvh905928\n",
      "24hvh906463\n",
      "24hvh906288\n",
      "24hvh906276\n",
      "24hvh905611\n"
     ]
    }
   ],
   "source": [
    "group_3_system_list =  final_group_3['Emily requisition number'].tolist()\n",
    "group_3_questionaire_list = group3_questionaire_data['Emily requisition number'].to_list()\n",
    "\n",
    "for x in group_3_questionaire_list:\n",
    "    if x not in group_3_system_list:\n",
    "        print(x)\n",
    "        text = open('missing requisition numbers.txt', 'a')\n",
    "        text.write(f'{x} \\n')\n",
    "        text.close()"
   ]
  },
  {
   "cell_type": "markdown",
   "id": "3726514a-05a9-478a-9ba7-cbedd031e7f1",
   "metadata": {},
   "source": [
    "## Filtering the group 1 dataframe based on sampling order"
   ]
  },
  {
   "cell_type": "code",
   "execution_count": 168,
   "id": "21f6c46e-00e9-41a8-938d-381bad092cd8",
   "metadata": {},
   "outputs": [],
   "source": [
    "evalyn_first = final_group_1[final_group_1['Sampling rækkefølge'] == 1]\n",
    "floq_first = final_group_1[final_group_1['Sampling rækkefølge'] == 2]"
   ]
  },
  {
   "cell_type": "markdown",
   "id": "404ae99c-2c60-4675-8e65-c8c9d2d7d147",
   "metadata": {},
   "source": [
    "## Filtering the group 2 dataframe based on sampling ording"
   ]
  },
  {
   "cell_type": "code",
   "execution_count": 169,
   "id": "5004a21a-0d9c-4d63-8ea4-b922949b440e",
   "metadata": {},
   "outputs": [],
   "source": [
    "group_2_evalyn_first = final_group_2[final_group_2['Sampling rækkefølge'] == 1]\n",
    "group_2_emily_first = final_group_2[final_group_2['Sampling rækkefølge'] == 2]"
   ]
  },
  {
   "cell_type": "markdown",
   "id": "261d079d-9e6b-45de-84e1-56633c76ed9f",
   "metadata": {},
   "source": [
    "## Creating contingency tables for all evalyn vs floq outcome, all tests, and for evalyn as first sample and floqswab as first sample. "
   ]
  },
  {
   "cell_type": "code",
   "execution_count": 170,
   "id": "3ebd855a-d421-4b63-b8f7-d314a83fc477",
   "metadata": {},
   "outputs": [],
   "source": [
    "def create_contingency(relevant_column_1, relevant_column_2, title):\n",
    "    contingency_table = pd.crosstab(relevant_column_1, relevant_column_2, margins = True)\n",
    "    contingency_table = contingency_table.map(lambda x: f'{x} ({round((x / len(evalyn_first)*100),2)} %)')\n",
    "    contingency_table.to_csv(f'Output/{title}.csv')"
   ]
  },
  {
   "cell_type": "code",
   "execution_count": 171,
   "id": "6786f1a6-b155-47ab-a5e4-8dca7cc12b3c",
   "metadata": {},
   "outputs": [],
   "source": [
    "create_contingency(final_group_2['emily_HPV HR Result'], final_group_2['evalyn_HPV HR Result'], 'Contingency Evalyn vs emily all')"
   ]
  },
  {
   "cell_type": "code",
   "execution_count": 172,
   "id": "900fc41f-c947-44e1-a97f-cd146a5017d6",
   "metadata": {},
   "outputs": [],
   "source": [
    "create_contingency(group_2_evalyn_first['emily_HPV HR Result'], group_2_evalyn_first['evalyn_HPV HR Result'], 'Contingency Evalyn vs emily evalyn first')"
   ]
  },
  {
   "cell_type": "code",
   "execution_count": 173,
   "id": "bc0d6274-3a93-4949-8578-fded956f813c",
   "metadata": {},
   "outputs": [],
   "source": [
    "create_contingency(group_2_emily_first['emily_HPV HR Result'], group_2_emily_first['evalyn_HPV HR Result'], 'Contingency Evalyn vs emily emily first')"
   ]
  },
  {
   "cell_type": "code",
   "execution_count": 174,
   "id": "14e52602-2a1b-494c-8a07-9b2e5056d377",
   "metadata": {},
   "outputs": [],
   "source": [
    "evalyn_first_contingency = pd.crosstab(evalyn_first['floq_HPV HR Result'], evalyn_first['evalyn_HPV HR Result'], margins = True)"
   ]
  },
  {
   "cell_type": "code",
   "execution_count": 175,
   "id": "33acfe62-a1d3-4d95-8ebb-8b8ca2648633",
   "metadata": {
    "scrolled": true
   },
   "outputs": [],
   "source": [
    "evalyn_first_contingency = evalyn_first_contingency.map(lambda x: f'{x} ({round((x / len(evalyn_first)*100),2)} %)')"
   ]
  },
  {
   "cell_type": "code",
   "execution_count": 176,
   "id": "3b03fafd-f44b-4fde-bb27-22b4dcf335aa",
   "metadata": {},
   "outputs": [
    {
     "data": {
      "text/html": [
       "<div>\n",
       "<style scoped>\n",
       "    .dataframe tbody tr th:only-of-type {\n",
       "        vertical-align: middle;\n",
       "    }\n",
       "\n",
       "    .dataframe tbody tr th {\n",
       "        vertical-align: top;\n",
       "    }\n",
       "\n",
       "    .dataframe thead th {\n",
       "        text-align: right;\n",
       "    }\n",
       "</style>\n",
       "<table border=\"1\" class=\"dataframe\">\n",
       "  <thead>\n",
       "    <tr style=\"text-align: right;\">\n",
       "      <th>evalyn_HPV HR Result</th>\n",
       "      <th>NEG</th>\n",
       "      <th>POS</th>\n",
       "      <th>All</th>\n",
       "    </tr>\n",
       "    <tr>\n",
       "      <th>floq_HPV HR Result</th>\n",
       "      <th></th>\n",
       "      <th></th>\n",
       "      <th></th>\n",
       "    </tr>\n",
       "  </thead>\n",
       "  <tbody>\n",
       "    <tr>\n",
       "      <th>NEG</th>\n",
       "      <td>156 (88.14 %)</td>\n",
       "      <td>1 (0.56 %)</td>\n",
       "      <td>157 (88.7 %)</td>\n",
       "    </tr>\n",
       "    <tr>\n",
       "      <th>POS</th>\n",
       "      <td>1 (0.56 %)</td>\n",
       "      <td>19 (10.73 %)</td>\n",
       "      <td>20 (11.3 %)</td>\n",
       "    </tr>\n",
       "    <tr>\n",
       "      <th>All</th>\n",
       "      <td>157 (88.7 %)</td>\n",
       "      <td>20 (11.3 %)</td>\n",
       "      <td>177 (100.0 %)</td>\n",
       "    </tr>\n",
       "  </tbody>\n",
       "</table>\n",
       "</div>"
      ],
      "text/plain": [
       "evalyn_HPV HR Result            NEG           POS            All\n",
       "floq_HPV HR Result                                              \n",
       "NEG                   156 (88.14 %)    1 (0.56 %)   157 (88.7 %)\n",
       "POS                      1 (0.56 %)  19 (10.73 %)    20 (11.3 %)\n",
       "All                    157 (88.7 %)   20 (11.3 %)  177 (100.0 %)"
      ]
     },
     "execution_count": 176,
     "metadata": {},
     "output_type": "execute_result"
    }
   ],
   "source": [
    "evalyn_first_contingency"
   ]
  },
  {
   "cell_type": "code",
   "execution_count": 177,
   "id": "e4853e7b-c171-499a-b232-44ff94882fd3",
   "metadata": {},
   "outputs": [],
   "source": [
    "evalyn_first_contingency.to_csv('Output/contingency_table_evalynfloq_evalyn_first.csv')"
   ]
  },
  {
   "cell_type": "code",
   "execution_count": 178,
   "id": "6bc9d487-336b-4ede-b989-7125794cbafa",
   "metadata": {},
   "outputs": [],
   "source": [
    "floq_first_contingency = pd.crosstab(floq_first['floq_HPV HR Result'], floq_first['evalyn_HPV HR Result'], margins = True)"
   ]
  },
  {
   "cell_type": "code",
   "execution_count": 179,
   "id": "24d66554-ef0d-4d49-be64-c1e27b132dd4",
   "metadata": {},
   "outputs": [],
   "source": [
    "floq_first_contingency = floq_first_contingency.map(lambda x: f'{x} ({round((x / len(floq_first)*100),2)} %)')"
   ]
  },
  {
   "cell_type": "code",
   "execution_count": 180,
   "id": "1160869d-1024-4498-8164-6cce998c3c7c",
   "metadata": {},
   "outputs": [
    {
     "data": {
      "text/html": [
       "<div>\n",
       "<style scoped>\n",
       "    .dataframe tbody tr th:only-of-type {\n",
       "        vertical-align: middle;\n",
       "    }\n",
       "\n",
       "    .dataframe tbody tr th {\n",
       "        vertical-align: top;\n",
       "    }\n",
       "\n",
       "    .dataframe thead th {\n",
       "        text-align: right;\n",
       "    }\n",
       "</style>\n",
       "<table border=\"1\" class=\"dataframe\">\n",
       "  <thead>\n",
       "    <tr style=\"text-align: right;\">\n",
       "      <th>evalyn_HPV HR Result</th>\n",
       "      <th>ICF</th>\n",
       "      <th>NEG</th>\n",
       "      <th>POS</th>\n",
       "      <th>All</th>\n",
       "    </tr>\n",
       "    <tr>\n",
       "      <th>floq_HPV HR Result</th>\n",
       "      <th></th>\n",
       "      <th></th>\n",
       "      <th></th>\n",
       "      <th></th>\n",
       "    </tr>\n",
       "  </thead>\n",
       "  <tbody>\n",
       "    <tr>\n",
       "      <th>NEG</th>\n",
       "      <td>1 (0.61 %)</td>\n",
       "      <td>144 (87.8 %)</td>\n",
       "      <td>1 (0.61 %)</td>\n",
       "      <td>146 (89.02 %)</td>\n",
       "    </tr>\n",
       "    <tr>\n",
       "      <th>POS</th>\n",
       "      <td>0 (0.0 %)</td>\n",
       "      <td>3 (1.83 %)</td>\n",
       "      <td>15 (9.15 %)</td>\n",
       "      <td>18 (10.98 %)</td>\n",
       "    </tr>\n",
       "    <tr>\n",
       "      <th>All</th>\n",
       "      <td>1 (0.61 %)</td>\n",
       "      <td>147 (89.63 %)</td>\n",
       "      <td>16 (9.76 %)</td>\n",
       "      <td>164 (100.0 %)</td>\n",
       "    </tr>\n",
       "  </tbody>\n",
       "</table>\n",
       "</div>"
      ],
      "text/plain": [
       "evalyn_HPV HR Result         ICF            NEG          POS            All\n",
       "floq_HPV HR Result                                                         \n",
       "NEG                   1 (0.61 %)   144 (87.8 %)   1 (0.61 %)  146 (89.02 %)\n",
       "POS                    0 (0.0 %)     3 (1.83 %)  15 (9.15 %)   18 (10.98 %)\n",
       "All                   1 (0.61 %)  147 (89.63 %)  16 (9.76 %)  164 (100.0 %)"
      ]
     },
     "execution_count": 180,
     "metadata": {},
     "output_type": "execute_result"
    }
   ],
   "source": [
    "floq_first_contingency"
   ]
  },
  {
   "cell_type": "code",
   "execution_count": 181,
   "id": "65ed73a2-386b-4fb2-ae3f-686074efcea1",
   "metadata": {},
   "outputs": [],
   "source": [
    "floq_first_contingency.to_csv('Output/contingency_table_evalynfloq_floq_first.csv')"
   ]
  },
  {
   "cell_type": "code",
   "execution_count": 182,
   "id": "4c4a6b7e-dab0-4797-b534-76c792dd598a",
   "metadata": {},
   "outputs": [],
   "source": [
    "contingency = pd.crosstab(final_group_1['floq_HPV HR Result'], final_group_1['evalyn_HPV HR Result'], margins = True)"
   ]
  },
  {
   "cell_type": "code",
   "execution_count": 183,
   "id": "e6ad8929-1aaa-42f2-ad01-b82bfefeb552",
   "metadata": {},
   "outputs": [],
   "source": [
    "contingency = contingency.map(lambda x: f'{x} ({round((x / len(final_group_1)*100),2)} %)')"
   ]
  },
  {
   "cell_type": "code",
   "execution_count": 184,
   "id": "5d7a319b-8411-42bb-a1f6-d2e3ba6d6721",
   "metadata": {},
   "outputs": [
    {
     "data": {
      "text/html": [
       "<div>\n",
       "<style scoped>\n",
       "    .dataframe tbody tr th:only-of-type {\n",
       "        vertical-align: middle;\n",
       "    }\n",
       "\n",
       "    .dataframe tbody tr th {\n",
       "        vertical-align: top;\n",
       "    }\n",
       "\n",
       "    .dataframe thead th {\n",
       "        text-align: right;\n",
       "    }\n",
       "</style>\n",
       "<table border=\"1\" class=\"dataframe\">\n",
       "  <thead>\n",
       "    <tr style=\"text-align: right;\">\n",
       "      <th>evalyn_HPV HR Result</th>\n",
       "      <th>ICF</th>\n",
       "      <th>NEG</th>\n",
       "      <th>POS</th>\n",
       "      <th>All</th>\n",
       "    </tr>\n",
       "    <tr>\n",
       "      <th>floq_HPV HR Result</th>\n",
       "      <th></th>\n",
       "      <th></th>\n",
       "      <th></th>\n",
       "      <th></th>\n",
       "    </tr>\n",
       "  </thead>\n",
       "  <tbody>\n",
       "    <tr>\n",
       "      <th>NEG</th>\n",
       "      <td>1 (0.29 %)</td>\n",
       "      <td>300 (87.98 %)</td>\n",
       "      <td>2 (0.59 %)</td>\n",
       "      <td>303 (88.86 %)</td>\n",
       "    </tr>\n",
       "    <tr>\n",
       "      <th>POS</th>\n",
       "      <td>0 (0.0 %)</td>\n",
       "      <td>4 (1.17 %)</td>\n",
       "      <td>34 (9.97 %)</td>\n",
       "      <td>38 (11.14 %)</td>\n",
       "    </tr>\n",
       "    <tr>\n",
       "      <th>All</th>\n",
       "      <td>1 (0.29 %)</td>\n",
       "      <td>304 (89.15 %)</td>\n",
       "      <td>36 (10.56 %)</td>\n",
       "      <td>341 (100.0 %)</td>\n",
       "    </tr>\n",
       "  </tbody>\n",
       "</table>\n",
       "</div>"
      ],
      "text/plain": [
       "evalyn_HPV HR Result         ICF            NEG           POS            All\n",
       "floq_HPV HR Result                                                          \n",
       "NEG                   1 (0.29 %)  300 (87.98 %)    2 (0.59 %)  303 (88.86 %)\n",
       "POS                    0 (0.0 %)     4 (1.17 %)   34 (9.97 %)   38 (11.14 %)\n",
       "All                   1 (0.29 %)  304 (89.15 %)  36 (10.56 %)  341 (100.0 %)"
      ]
     },
     "execution_count": 184,
     "metadata": {},
     "output_type": "execute_result"
    }
   ],
   "source": [
    "contingency"
   ]
  },
  {
   "cell_type": "code",
   "execution_count": 185,
   "id": "9ce5a0ef-a450-4ec4-88df-52709c38b981",
   "metadata": {},
   "outputs": [],
   "source": [
    "contingency.to_excel('Output/Contingency/group 1 contingency.xlsx', engine = 'openpyxl')"
   ]
  },
  {
   "cell_type": "markdown",
   "id": "f64adec5-6350-4730-9903-d37f6402b8fa",
   "metadata": {},
   "source": [
    "## Group 2 contingency table"
   ]
  },
  {
   "cell_type": "code",
   "execution_count": 186,
   "id": "5dbfa473-dffd-42f2-b0ef-eb8e9f9ed664",
   "metadata": {},
   "outputs": [],
   "source": [
    "contingency = pd.crosstab(final_group_2['emily_HPV HR Result'], final_group_2['evalyn_HPV HR Result'], margins = True)"
   ]
  },
  {
   "cell_type": "code",
   "execution_count": 187,
   "id": "9fe7480f-ee3b-4394-ad20-8fd537303a0c",
   "metadata": {},
   "outputs": [],
   "source": [
    "contingency = contingency.map(lambda x: f'{x} ({round((x / len(final_group_2)*100),2)} %)')"
   ]
  },
  {
   "cell_type": "code",
   "execution_count": 188,
   "id": "84063e6e-21f5-4073-8f28-5d9b8dd95f01",
   "metadata": {},
   "outputs": [
    {
     "data": {
      "text/html": [
       "<div>\n",
       "<style scoped>\n",
       "    .dataframe tbody tr th:only-of-type {\n",
       "        vertical-align: middle;\n",
       "    }\n",
       "\n",
       "    .dataframe tbody tr th {\n",
       "        vertical-align: top;\n",
       "    }\n",
       "\n",
       "    .dataframe thead th {\n",
       "        text-align: right;\n",
       "    }\n",
       "</style>\n",
       "<table border=\"1\" class=\"dataframe\">\n",
       "  <thead>\n",
       "    <tr style=\"text-align: right;\">\n",
       "      <th>evalyn_HPV HR Result</th>\n",
       "      <th>ICF</th>\n",
       "      <th>LLF</th>\n",
       "      <th>NEG</th>\n",
       "      <th>POS</th>\n",
       "      <th>All</th>\n",
       "    </tr>\n",
       "    <tr>\n",
       "      <th>emily_HPV HR Result</th>\n",
       "      <th></th>\n",
       "      <th></th>\n",
       "      <th></th>\n",
       "      <th></th>\n",
       "      <th></th>\n",
       "    </tr>\n",
       "  </thead>\n",
       "  <tbody>\n",
       "    <tr>\n",
       "      <th>ICF</th>\n",
       "      <td>1 (0.16 %)</td>\n",
       "      <td>0 (0.0 %)</td>\n",
       "      <td>2 (0.32 %)</td>\n",
       "      <td>0 (0.0 %)</td>\n",
       "      <td>3 (0.48 %)</td>\n",
       "    </tr>\n",
       "    <tr>\n",
       "      <th>INC</th>\n",
       "      <td>0 (0.0 %)</td>\n",
       "      <td>0 (0.0 %)</td>\n",
       "      <td>2 (0.32 %)</td>\n",
       "      <td>0 (0.0 %)</td>\n",
       "      <td>2 (0.32 %)</td>\n",
       "    </tr>\n",
       "    <tr>\n",
       "      <th>LLF</th>\n",
       "      <td>0 (0.0 %)</td>\n",
       "      <td>0 (0.0 %)</td>\n",
       "      <td>1 (0.16 %)</td>\n",
       "      <td>0 (0.0 %)</td>\n",
       "      <td>1 (0.16 %)</td>\n",
       "    </tr>\n",
       "    <tr>\n",
       "      <th>NEG</th>\n",
       "      <td>0 (0.0 %)</td>\n",
       "      <td>2 (0.32 %)</td>\n",
       "      <td>519 (83.04 %)</td>\n",
       "      <td>10 (1.6 %)</td>\n",
       "      <td>531 (84.96 %)</td>\n",
       "    </tr>\n",
       "    <tr>\n",
       "      <th>POS</th>\n",
       "      <td>0 (0.0 %)</td>\n",
       "      <td>0 (0.0 %)</td>\n",
       "      <td>12 (1.92 %)</td>\n",
       "      <td>76 (12.16 %)</td>\n",
       "      <td>88 (14.08 %)</td>\n",
       "    </tr>\n",
       "    <tr>\n",
       "      <th>All</th>\n",
       "      <td>1 (0.16 %)</td>\n",
       "      <td>2 (0.32 %)</td>\n",
       "      <td>536 (85.76 %)</td>\n",
       "      <td>86 (13.76 %)</td>\n",
       "      <td>625 (100.0 %)</td>\n",
       "    </tr>\n",
       "  </tbody>\n",
       "</table>\n",
       "</div>"
      ],
      "text/plain": [
       "evalyn_HPV HR Result         ICF         LLF            NEG           POS  \\\n",
       "emily_HPV HR Result                                                         \n",
       "ICF                   1 (0.16 %)   0 (0.0 %)     2 (0.32 %)     0 (0.0 %)   \n",
       "INC                    0 (0.0 %)   0 (0.0 %)     2 (0.32 %)     0 (0.0 %)   \n",
       "LLF                    0 (0.0 %)   0 (0.0 %)     1 (0.16 %)     0 (0.0 %)   \n",
       "NEG                    0 (0.0 %)  2 (0.32 %)  519 (83.04 %)    10 (1.6 %)   \n",
       "POS                    0 (0.0 %)   0 (0.0 %)    12 (1.92 %)  76 (12.16 %)   \n",
       "All                   1 (0.16 %)  2 (0.32 %)  536 (85.76 %)  86 (13.76 %)   \n",
       "\n",
       "evalyn_HPV HR Result            All  \n",
       "emily_HPV HR Result                  \n",
       "ICF                      3 (0.48 %)  \n",
       "INC                      2 (0.32 %)  \n",
       "LLF                      1 (0.16 %)  \n",
       "NEG                   531 (84.96 %)  \n",
       "POS                    88 (14.08 %)  \n",
       "All                   625 (100.0 %)  "
      ]
     },
     "execution_count": 188,
     "metadata": {},
     "output_type": "execute_result"
    }
   ],
   "source": [
    "contingency"
   ]
  },
  {
   "cell_type": "code",
   "execution_count": 189,
   "id": "5980ca3f-3c1a-47a8-bcec-c72cc469c16e",
   "metadata": {},
   "outputs": [],
   "source": [
    "contingency.to_excel('Output/Contingency/group 2 contingency.xlsx', engine = 'openpyxl')"
   ]
  },
  {
   "cell_type": "markdown",
   "id": "611237cc-799a-488a-a553-51a78d905bab",
   "metadata": {},
   "source": [
    "## Group 3 contingency table"
   ]
  },
  {
   "cell_type": "code",
   "execution_count": 190,
   "id": "2a7b1d82-b004-4301-8abd-258438d4c4c3",
   "metadata": {},
   "outputs": [
    {
     "data": {
      "text/html": [
       "<div>\n",
       "<style scoped>\n",
       "    .dataframe tbody tr th:only-of-type {\n",
       "        vertical-align: middle;\n",
       "    }\n",
       "\n",
       "    .dataframe tbody tr th {\n",
       "        vertical-align: top;\n",
       "    }\n",
       "\n",
       "    .dataframe thead th {\n",
       "        text-align: right;\n",
       "    }\n",
       "</style>\n",
       "<table border=\"1\" class=\"dataframe\">\n",
       "  <thead>\n",
       "    <tr style=\"text-align: right;\">\n",
       "      <th>floq_HPV HR Result</th>\n",
       "      <th>ICF</th>\n",
       "      <th>NEG</th>\n",
       "      <th>POS</th>\n",
       "      <th>All</th>\n",
       "    </tr>\n",
       "    <tr>\n",
       "      <th>emily_HPV HR Result</th>\n",
       "      <th></th>\n",
       "      <th></th>\n",
       "      <th></th>\n",
       "      <th></th>\n",
       "    </tr>\n",
       "  </thead>\n",
       "  <tbody>\n",
       "    <tr>\n",
       "      <th>ICF</th>\n",
       "      <td>0 (0.0 %)</td>\n",
       "      <td>1 (0.41 %)</td>\n",
       "      <td>0 (0.0 %)</td>\n",
       "      <td>1 (0.41 %)</td>\n",
       "    </tr>\n",
       "    <tr>\n",
       "      <th>NEG</th>\n",
       "      <td>0 (0.0 %)</td>\n",
       "      <td>213 (88.38 %)</td>\n",
       "      <td>2 (0.83 %)</td>\n",
       "      <td>215 (89.21 %)</td>\n",
       "    </tr>\n",
       "    <tr>\n",
       "      <th>POS</th>\n",
       "      <td>1 (0.41 %)</td>\n",
       "      <td>1 (0.41 %)</td>\n",
       "      <td>23 (9.54 %)</td>\n",
       "      <td>25 (10.37 %)</td>\n",
       "    </tr>\n",
       "    <tr>\n",
       "      <th>All</th>\n",
       "      <td>1 (0.41 %)</td>\n",
       "      <td>215 (89.21 %)</td>\n",
       "      <td>25 (10.37 %)</td>\n",
       "      <td>241 (100.0 %)</td>\n",
       "    </tr>\n",
       "  </tbody>\n",
       "</table>\n",
       "</div>"
      ],
      "text/plain": [
       "floq_HPV HR Result          ICF            NEG           POS            All\n",
       "emily_HPV HR Result                                                        \n",
       "ICF                   0 (0.0 %)     1 (0.41 %)     0 (0.0 %)     1 (0.41 %)\n",
       "NEG                   0 (0.0 %)  213 (88.38 %)    2 (0.83 %)  215 (89.21 %)\n",
       "POS                  1 (0.41 %)     1 (0.41 %)   23 (9.54 %)   25 (10.37 %)\n",
       "All                  1 (0.41 %)  215 (89.21 %)  25 (10.37 %)  241 (100.0 %)"
      ]
     },
     "execution_count": 190,
     "metadata": {},
     "output_type": "execute_result"
    }
   ],
   "source": [
    "contingency = pd.crosstab(final_group_3['emily_HPV HR Result'], final_group_3['floq_HPV HR Result'], margins = True)\n",
    "contingency = contingency.map(lambda x: f'{x} ({round((x / len(final_group_3)*100),2)} %)')\n",
    "contingency"
   ]
  },
  {
   "cell_type": "code",
   "execution_count": 191,
   "id": "b4e46615-1ff9-454a-8267-6e04a7766082",
   "metadata": {},
   "outputs": [],
   "source": [
    "contingency.to_excel('Output/Contingency/group 3 contingency.xlsx', engine = 'openpyxl')"
   ]
  },
  {
   "cell_type": "markdown",
   "id": "d79d35f2-4621-4deb-b655-ae8cae3da81b",
   "metadata": {},
   "source": [
    "## Checking requisition numbers in questionaire and merged file"
   ]
  },
  {
   "cell_type": "code",
   "execution_count": 192,
   "id": "494e6f4c-4c5b-48e4-8b41-0a2f0b62bd7a",
   "metadata": {},
   "outputs": [],
   "source": [
    "in_merged = group3_fourth_step['Emily requisition number'].to_list()\n",
    "in_questionaire = group3_questionaire_data['Emily requisition number'].to_list()"
   ]
  },
  {
   "cell_type": "code",
   "execution_count": 193,
   "id": "17768b69-0dd6-4ac8-9eb9-076aa91e7031",
   "metadata": {},
   "outputs": [],
   "source": [
    "for x in in_questionaire:\n",
    "    if x not in in_merged:\n",
    "        text = f'{x} is not in merged \\n'\n",
    "        tekst_file = open('output.txt', 'a')\n",
    "        tekst_file.write(text)\n",
    "        tekst_file.close()"
   ]
  },
  {
   "cell_type": "code",
   "execution_count": 194,
   "id": "7458fc98-d664-499a-9c37-7c8abdfd898f",
   "metadata": {},
   "outputs": [],
   "source": [
    "in_merged = group3_fourth_step['Emily requisition number'].to_list()\n",
    "in_questionaire = group3_questionaire_data['Emily requisition number'].to_list()"
   ]
  },
  {
   "cell_type": "code",
   "execution_count": 195,
   "id": "235ababf-66db-420e-b585-00149ade9d78",
   "metadata": {},
   "outputs": [
    {
     "data": {
      "text/html": [
       "<div>\n",
       "<style scoped>\n",
       "    .dataframe tbody tr th:only-of-type {\n",
       "        vertical-align: middle;\n",
       "    }\n",
       "\n",
       "    .dataframe tbody tr th {\n",
       "        vertical-align: top;\n",
       "    }\n",
       "\n",
       "    .dataframe thead th {\n",
       "        text-align: right;\n",
       "    }\n",
       "</style>\n",
       "<table border=\"1\" class=\"dataframe\">\n",
       "  <thead>\n",
       "    <tr style=\"text-align: right;\">\n",
       "      <th></th>\n",
       "      <th>FLOQSwab ID</th>\n",
       "      <th>Emily requisition number</th>\n",
       "      <th>Emily ID</th>\n",
       "      <th>Sampling rækkefølge</th>\n",
       "      <th>emily_Test Result Time</th>\n",
       "      <th>emily_HPV HR Result</th>\n",
       "      <th>emily_COR QC Lot Number</th>\n",
       "      <th>emily_HBB1 Ct</th>\n",
       "      <th>emily_HBB2 Ct</th>\n",
       "      <th>emily_HBB3 Ct</th>\n",
       "      <th>...</th>\n",
       "      <th>floq_HPV 16 Ct Score</th>\n",
       "      <th>floq_HPV 18 Ct Score</th>\n",
       "      <th>floq_HPV 31 Ct Score</th>\n",
       "      <th>floq_HPV 45 Ct Score</th>\n",
       "      <th>floq_HPV 51 Ct Score</th>\n",
       "      <th>floq_HPV 52 Ct Score</th>\n",
       "      <th>floq_HPV P1 Ct Score</th>\n",
       "      <th>floq_HPV P2 Ct Score</th>\n",
       "      <th>floq_HPV P3 Ct Score</th>\n",
       "      <th>floq_Instrument</th>\n",
       "    </tr>\n",
       "  </thead>\n",
       "  <tbody>\n",
       "  </tbody>\n",
       "</table>\n",
       "<p>0 rows × 43 columns</p>\n",
       "</div>"
      ],
      "text/plain": [
       "Empty DataFrame\n",
       "Columns: [FLOQSwab ID, Emily requisition number, Emily ID, Sampling rækkefølge, emily_Test Result Time, emily_HPV HR Result, emily_COR QC Lot Number, emily_HBB1 Ct, emily_HBB2 Ct, emily_HBB3 Ct, emily_HPV 16 Ct Score, emily_HPV 18 Ct Score, emily_HPV 31 Ct Score, emily_HPV 45 Ct Score, emily_HPV 51 Ct Score, emily_HPV 52 Ct Score, emily_HPV P1 Ct Score, emily_HPV P2 Ct Score, emily_HPV P3 Ct Score, emily_Instrument, PrøveType, floq requisition number, Status, CPR, Alder, Dato, Tid, floq_Test Result Time, floq_HPV HR Result, floq_COR QC Lot Number, floq_HBB1 Ct, floq_HBB2 Ct, floq_HBB3 Ct, floq_HPV 16 Ct Score, floq_HPV 18 Ct Score, floq_HPV 31 Ct Score, floq_HPV 45 Ct Score, floq_HPV 51 Ct Score, floq_HPV 52 Ct Score, floq_HPV P1 Ct Score, floq_HPV P2 Ct Score, floq_HPV P3 Ct Score, floq_Instrument]\n",
       "Index: []\n",
       "\n",
       "[0 rows x 43 columns]"
      ]
     },
     "execution_count": 195,
     "metadata": {},
     "output_type": "execute_result"
    }
   ],
   "source": [
    "final_group_3.loc[final_group_3['Emily requisition number'] == '24hvh906504']"
   ]
  },
  {
   "cell_type": "markdown",
   "id": "13942996-ae6e-4392-9200-4295decf6535",
   "metadata": {},
   "source": [
    "## Examining assumptions for T-test and ANOVA"
   ]
  },
  {
   "cell_type": "markdown",
   "id": "a52f13f6-c18e-4bb5-a6a1-e2b2ff390ec1",
   "metadata": {},
   "source": [
    "### Group 1"
   ]
  },
  {
   "cell_type": "markdown",
   "id": "876004cc-8fad-4678-aa89-37d28584dab8",
   "metadata": {},
   "source": [
    "Test of T-test and ANOVA assumptions with the purpose of examining wether HBB values from the same brushtype can be merged across groups and wether HBB values from the same brush but analysed in different wells can be merged."
   ]
  },
  {
   "cell_type": "markdown",
   "id": "440ac12c-fb64-4d64-aaa0-aae5d3551089",
   "metadata": {},
   "source": [
    "Assumption 1: Datatypes: Dependent variable is nominal and independent variable is numerical. Asumption is passed."
   ]
  },
  {
   "cell_type": "markdown",
   "id": "e415496b-fac0-4540-acfb-93611ae9250e",
   "metadata": {},
   "source": [
    "Assumption 2: Independence of sample. When comparing two brushes, the analysis is from the same woman, but analysed independently. When comparing HBB values from the same brush, material from the same sample is being used, but analysed in individual wells. "
   ]
  },
  {
   "cell_type": "markdown",
   "id": "642fd5dc-6b78-473c-9cb3-3c59f04c837f",
   "metadata": {},
   "source": [
    "Assumption 3: Normality of samples:"
   ]
  },
  {
   "cell_type": "code",
   "execution_count": 196,
   "id": "cc4a0d06-0d98-4ed2-b1b1-3070d6c6f79a",
   "metadata": {},
   "outputs": [
    {
     "data": {
      "image/png": "[encoded data removed]",
      "text/plain": [
       "<Figure size 640x480 with 1 Axes>"
      ]
     },
     "metadata": {},
     "output_type": "display_data"
    }
   ],
   "source": [
    "stats.probplot(group1_fourth_step['floq_HBB1 Ct'], dist = 'norm', plot = plt);"
   ]
  },
  {
   "cell_type": "code",
   "execution_count": 197,
   "id": "88638f4b-0659-42d5-a97c-56f6465138ac",
   "metadata": {},
   "outputs": [
    {
     "data": {
      "image/png": "[encoded data removed]",
      "text/plain": [
       "<Figure size 640x480 with 1 Axes>"
      ]
     },
     "metadata": {},
     "output_type": "display_data"
    }
   ],
   "source": [
    "stats.probplot(group1_fourth_step['floq_HBB2 Ct'], dist = 'norm', plot = plt);"
   ]
  },
  {
   "cell_type": "code",
   "execution_count": 198,
   "id": "6f6a08c3-81d9-4df1-859a-7b76b8539ec8",
   "metadata": {},
   "outputs": [
    {
     "data": {
      "image/png": "[encoded data removed]",
      "text/plain": [
       "<Figure size 640x480 with 1 Axes>"
      ]
     },
     "metadata": {},
     "output_type": "display_data"
    }
   ],
   "source": [
    "stats.probplot(group1_fourth_step['floq_HBB3 Ct'], dist = 'norm', plot = plt);"
   ]
  },
  {
   "cell_type": "code",
   "execution_count": 199,
   "id": "a2564efb-8480-4d04-b68b-922d5315e981",
   "metadata": {},
   "outputs": [
    {
     "data": {
      "image/png": "[encoded data removed]",
      "text/plain": [
       "<Figure size 640x480 with 1 Axes>"
      ]
     },
     "metadata": {},
     "output_type": "display_data"
    }
   ],
   "source": [
    "stats.probplot(group1_fourth_step['evalyn_HBB1 Ct'], dist = 'norm', plot = plt);"
   ]
  },
  {
   "cell_type": "code",
   "execution_count": 200,
   "id": "c0a4993d-b836-4562-9dcf-82dcbf782f1c",
   "metadata": {},
   "outputs": [
    {
     "data": {
      "image/png": "[encoded data removed]",
      "text/plain": [
       "<Figure size 640x480 with 1 Axes>"
      ]
     },
     "metadata": {},
     "output_type": "display_data"
    }
   ],
   "source": [
    "stats.probplot(group1_fourth_step['evalyn_HBB2 Ct'], dist = 'norm', plot = plt);"
   ]
  },
  {
   "cell_type": "code",
   "execution_count": 201,
   "id": "b7e798ac-e9c6-4000-99a3-09221e6c9f05",
   "metadata": {},
   "outputs": [
    {
     "data": {
      "image/png": "[encoded data removed]",
      "text/plain": [
       "<Figure size 640x480 with 1 Axes>"
      ]
     },
     "metadata": {},
     "output_type": "display_data"
    }
   ],
   "source": [
    "stats.probplot(group1_fourth_step['evalyn_HBB3 Ct'], dist = 'norm', plot = plt);"
   ]
  },
  {
   "cell_type": "markdown",
   "id": "b6019721-f222-45ee-80f4-ad4979666243",
   "metadata": {},
   "source": [
    "### Group 2"
   ]
  },
  {
   "cell_type": "code",
   "execution_count": 202,
   "id": "cf194c3c-01a5-4590-9a24-92c084fabce8",
   "metadata": {},
   "outputs": [
    {
     "data": {
      "image/png": "[encoded data removed]",
      "text/plain": [
       "<Figure size 640x480 with 1 Axes>"
      ]
     },
     "metadata": {},
     "output_type": "display_data"
    }
   ],
   "source": [
    "stats.probplot(group2_fourth_step['emily_HBB1 Ct'], dist = 'norm', plot = plt);"
   ]
  },
  {
   "cell_type": "code",
   "execution_count": 203,
   "id": "1cedbe3e-e766-4f6f-aa69-548bccde7f91",
   "metadata": {},
   "outputs": [
    {
     "data": {
      "image/png": "[encoded data removed]",
      "text/plain": [
       "<Figure size 640x480 with 1 Axes>"
      ]
     },
     "metadata": {},
     "output_type": "display_data"
    }
   ],
   "source": [
    "stats.probplot(group2_fourth_step['emily_HBB2 Ct'], dist = 'norm', plot = plt);"
   ]
  },
  {
   "cell_type": "code",
   "execution_count": 204,
   "id": "b43a4b7d-238c-48bc-a7b0-d5e09ad49a72",
   "metadata": {},
   "outputs": [
    {
     "data": {
      "image/png": "[encoded data removed]",
      "text/plain": [
       "<Figure size 640x480 with 1 Axes>"
      ]
     },
     "metadata": {},
     "output_type": "display_data"
    }
   ],
   "source": [
    "stats.probplot(group2_fourth_step['emily_HBB3 Ct'], dist = 'norm', plot = plt);"
   ]
  },
  {
   "cell_type": "code",
   "execution_count": 205,
   "id": "e4db8917-695b-48fc-83dc-7856ec9ff9f3",
   "metadata": {},
   "outputs": [
    {
     "data": {
      "image/png": "[encoded data removed]",
      "text/plain": [
       "<Figure size 640x480 with 1 Axes>"
      ]
     },
     "metadata": {},
     "output_type": "display_data"
    }
   ],
   "source": [
    "stats.probplot(group2_fourth_step['evalyn_HBB1 Ct'], dist = 'norm', plot = plt);"
   ]
  },
  {
   "cell_type": "code",
   "execution_count": 206,
   "id": "17d28270-0023-4f24-bb9d-14d15775d094",
   "metadata": {},
   "outputs": [
    {
     "data": {
      "image/png": "[encoded data removed]",
      "text/plain": [
       "<Figure size 640x480 with 1 Axes>"
      ]
     },
     "metadata": {},
     "output_type": "display_data"
    }
   ],
   "source": [
    "stats.probplot(group2_fourth_step['evalyn_HBB2 Ct'], dist = 'norm', plot = plt);"
   ]
  },
  {
   "cell_type": "code",
   "execution_count": 207,
   "id": "1a309fa6-b0ae-40ae-addf-7fbb461d34f1",
   "metadata": {},
   "outputs": [
    {
     "data": {
      "image/png": "[encoded data removed]",
      "text/plain": [
       "<Figure size 640x480 with 1 Axes>"
      ]
     },
     "metadata": {},
     "output_type": "display_data"
    }
   ],
   "source": [
    "stats.probplot(group2_fourth_step['evalyn_HBB3 Ct'], dist = 'norm', plot = plt);"
   ]
  },
  {
   "cell_type": "markdown",
   "id": "51415eec-9140-43d4-b6d6-608d0923467c",
   "metadata": {},
   "source": [
    "### Group 3"
   ]
  },
  {
   "cell_type": "code",
   "execution_count": 208,
   "id": "60d348df-0fb1-411b-9f24-761c130c2862",
   "metadata": {},
   "outputs": [
    {
     "data": {
      "image/png": "[encoded data removed]",
      "text/plain": [
       "<Figure size 640x480 with 1 Axes>"
      ]
     },
     "metadata": {},
     "output_type": "display_data"
    }
   ],
   "source": [
    "stats.probplot(group3_fourth_step['emily_HBB1 Ct'], dist = 'norm', plot = plt);"
   ]
  },
  {
   "cell_type": "code",
   "execution_count": 209,
   "id": "8564bcbe-36c6-416e-86ee-e357471d839d",
   "metadata": {},
   "outputs": [
    {
     "data": {
      "image/png": "[encoded data removed]",
      "text/plain": [
       "<Figure size 640x480 with 1 Axes>"
      ]
     },
     "metadata": {},
     "output_type": "display_data"
    }
   ],
   "source": [
    "stats.probplot(group3_fourth_step['emily_HBB2 Ct'], dist = 'norm', plot = plt);"
   ]
  },
  {
   "cell_type": "code",
   "execution_count": 210,
   "id": "7d6f9204-f088-4bb7-bb5f-400eac5c69c8",
   "metadata": {},
   "outputs": [
    {
     "data": {
      "image/png": "[encoded data removed]",
      "text/plain": [
       "<Figure size 640x480 with 1 Axes>"
      ]
     },
     "metadata": {},
     "output_type": "display_data"
    }
   ],
   "source": [
    "stats.probplot(group3_fourth_step['emily_HBB3 Ct'], dist = 'norm', plot = plt);"
   ]
  },
  {
   "cell_type": "code",
   "execution_count": 211,
   "id": "c03dfc2c-29b7-4e03-a70c-3ae801bfb958",
   "metadata": {},
   "outputs": [
    {
     "data": {
      "image/png": "[encoded data removed]",
      "text/plain": [
       "<Figure size 640x480 with 1 Axes>"
      ]
     },
     "metadata": {},
     "output_type": "display_data"
    }
   ],
   "source": [
    "stats.probplot(group3_fourth_step['floq_HBB1 Ct'], dist = 'norm', plot = plt);"
   ]
  },
  {
   "cell_type": "code",
   "execution_count": 212,
   "id": "446d985b-e2a6-401f-8037-1d8c1351f699",
   "metadata": {},
   "outputs": [
    {
     "data": {
      "image/png": "[encoded data removed]",
      "text/plain": [
       "<Figure size 640x480 with 1 Axes>"
      ]
     },
     "metadata": {},
     "output_type": "display_data"
    }
   ],
   "source": [
    "stats.probplot(group3_fourth_step['floq_HBB2 Ct'], dist = 'norm', plot = plt);"
   ]
  },
  {
   "cell_type": "code",
   "execution_count": 213,
   "id": "c1b6ac22-6194-419d-9d7a-6b606950aacf",
   "metadata": {},
   "outputs": [
    {
     "data": {
      "image/png": "[encoded data removed]",
      "text/plain": [
       "<Figure size 640x480 with 1 Axes>"
      ]
     },
     "metadata": {},
     "output_type": "display_data"
    }
   ],
   "source": [
    "stats.probplot(group3_fourth_step['floq_HBB3 Ct'], dist = 'norm', plot = plt);"
   ]
  },
  {
   "cell_type": "markdown",
   "id": "11c9078a-ea34-416d-81b4-cdefe7dcf0e0",
   "metadata": {},
   "source": [
    "All 3 HBB values from each brush show normal distribution of datapoints. "
   ]
  },
  {
   "cell_type": "markdown",
   "id": "91607afe-b128-44cc-b519-9be9d4ee7e5c",
   "metadata": {},
   "source": [
    "Assumption 4: Equal variability "
   ]
  },
  {
   "cell_type": "markdown",
   "id": "6418a14a-e07d-4241-b26f-92de99f9f02f",
   "metadata": {},
   "source": [
    "## Levenes test to examine wether the variance of CT values between the same brush, but different groups, are equal"
   ]
  },
  {
   "cell_type": "code",
   "execution_count": 214,
   "id": "47d84c87-be2d-4a44-91e2-2a36475d32bb",
   "metadata": {},
   "outputs": [],
   "source": [
    "group1_fourth_step = group1_fourth_step[['floq_HBB1 Ct', 'floq_HBB2 Ct', 'floq_HBB3 Ct', 'evalyn_HBB1 Ct', 'evalyn_HBB2 Ct', 'evalyn_HBB3 Ct']].dropna()"
   ]
  },
  {
   "cell_type": "code",
   "execution_count": 215,
   "id": "5966441f-b9e3-4881-8219-d3ef3bf93a7d",
   "metadata": {},
   "outputs": [],
   "source": [
    "group2_fourth_step = group2_fourth_step[['emily_HBB1 Ct', 'emily_HBB2 Ct','emily_HBB3 Ct','evalyn_HBB1 Ct', 'evalyn_HBB2 Ct', 'evalyn_HBB3 Ct']].dropna()"
   ]
  },
  {
   "cell_type": "code",
   "execution_count": 216,
   "id": "bbc15cdb-443a-465a-aeed-ee109e853707",
   "metadata": {},
   "outputs": [],
   "source": [
    "group3_fourth_step = group3_fourth_step[['emily_HBB1 Ct', 'emily_HBB2 Ct','emily_HBB3 Ct','floq_HBB1 Ct', 'floq_HBB2 Ct', 'floq_HBB3 Ct', ]].dropna()"
   ]
  },
  {
   "cell_type": "code",
   "execution_count": 217,
   "id": "8473e74e-4782-48d2-81b2-e7af3a818809",
   "metadata": {},
   "outputs": [],
   "source": [
    "var = stats.levene(group1_fourth_step['floq_HBB1 Ct'], group3_fourth_step['floq_HBB1 Ct'], \n",
    "               group1_fourth_step['floq_HBB2 Ct'], group3_fourth_step['floq_HBB2 Ct'],\n",
    "                   group1_fourth_step['floq_HBB3 Ct'], group3_fourth_step['floq_HBB3 Ct'],\n",
    "           center='mean', nan_policy = 'omit')"
   ]
  },
  {
   "cell_type": "code",
   "execution_count": 218,
   "id": "bab56cac-6fb3-457a-a51d-24a836795732",
   "metadata": {},
   "outputs": [
    {
     "data": {
      "text/plain": [
       "0.9733553232772167"
      ]
     },
     "execution_count": 218,
     "metadata": {},
     "output_type": "execute_result"
    }
   ],
   "source": [
    "var.pvalue"
   ]
  },
  {
   "cell_type": "code",
   "execution_count": 219,
   "id": "c0a849ac-3eef-4c27-8f35-fa1e9af29827",
   "metadata": {},
   "outputs": [],
   "source": [
    "var = stats.levene(group1_fourth_step['evalyn_HBB1 Ct'], group2_fourth_step['evalyn_HBB1 Ct'],\n",
    "                   group1_fourth_step['evalyn_HBB2 Ct'], group2_fourth_step['evalyn_HBB2 Ct'],\n",
    "                   group1_fourth_step['evalyn_HBB3 Ct'], group2_fourth_step['evalyn_HBB3 Ct'], center='mean')"
   ]
  },
  {
   "cell_type": "code",
   "execution_count": 220,
   "id": "d743e316-38ab-40d5-ba21-a66853931fca",
   "metadata": {},
   "outputs": [
    {
     "data": {
      "text/plain": [
       "0.9064251624237474"
      ]
     },
     "execution_count": 220,
     "metadata": {},
     "output_type": "execute_result"
    }
   ],
   "source": [
    "var.pvalue"
   ]
  },
  {
   "cell_type": "code",
   "execution_count": 221,
   "id": "d89218f8-7596-43dc-81df-f2d05efdae20",
   "metadata": {},
   "outputs": [],
   "source": [
    "var = stats.levene(group2_fourth_step['emily_HBB1 Ct'], group2_fourth_step['emily_HBB1 Ct'],\n",
    "                   group2_fourth_step['emily_HBB2 Ct'], group2_fourth_step['emily_HBB2 Ct'],\n",
    "                    group2_fourth_step['emily_HBB3 Ct'], group2_fourth_step['emily_HBB3 Ct'], center='mean')"
   ]
  },
  {
   "cell_type": "code",
   "execution_count": 222,
   "id": "2d963844-57f9-450d-8f4b-ce4f7789c335",
   "metadata": {},
   "outputs": [],
   "source": [
    "var = stats.levene(group2_fourth_step['emily_HBB1 Ct'], group2_fourth_step['emily_HBB1 Ct'],\n",
    "                   group2_fourth_step['emily_HBB2 Ct'], group2_fourth_step['emily_HBB2 Ct'],\n",
    "                    group2_fourth_step['emily_HBB3 Ct'], group2_fourth_step['emily_HBB3 Ct'], center='mean')"
   ]
  },
  {
   "cell_type": "code",
   "execution_count": 223,
   "id": "8a40a5c8-356a-4e97-82ce-b58f2b8647a2",
   "metadata": {},
   "outputs": [],
   "source": [
    "meltet_emily_columns = group2_fourth_step.melt(value_vars= ['emily_HBB1 Ct', 'emily_HBB2 Ct'])\n",
    "\n",
    "meltet_emily_columns.to_csv('melt_melt_melt.csv')"
   ]
  },
  {
   "cell_type": "code",
   "execution_count": 224,
   "id": "bfea427e-1531-47e1-a512-e6dc1ee5d102",
   "metadata": {},
   "outputs": [
    {
     "data": {
      "text/plain": [
       "0.9999902983034626"
      ]
     },
     "execution_count": 224,
     "metadata": {},
     "output_type": "execute_result"
    }
   ],
   "source": [
    "var.pvalue"
   ]
  },
  {
   "cell_type": "code",
   "execution_count": 225,
   "id": "a780b931-9315-4627-ad2a-8441894800ef",
   "metadata": {},
   "outputs": [],
   "source": [
    "var = stats.levene(group2_fourth_step['emily_HBB1 Ct'], group2_fourth_step['emily_HBB2 Ct'], center = 'median', nan_policy = 'omit')"
   ]
  },
  {
   "cell_type": "code",
   "execution_count": 226,
   "id": "a0447d75-7de0-42f5-8c4e-b8134b277a42",
   "metadata": {},
   "outputs": [
    {
     "data": {
      "text/plain": [
       "0.8804372141771988"
      ]
     },
     "execution_count": 226,
     "metadata": {},
     "output_type": "execute_result"
    }
   ],
   "source": [
    "var.pvalue"
   ]
  },
  {
   "cell_type": "code",
   "execution_count": 227,
   "id": "b0707239-ded5-4d49-9f6c-41b689f1bb1f",
   "metadata": {},
   "outputs": [
    {
     "data": {
      "text/plain": [
       "0.8804372141771988"
      ]
     },
     "execution_count": 227,
     "metadata": {},
     "output_type": "execute_result"
    }
   ],
   "source": [
    "var.pvalue"
   ]
  },
  {
   "cell_type": "code",
   "execution_count": 228,
   "id": "9ece32ec-7402-46df-b3e5-df5dd6363e62",
   "metadata": {},
   "outputs": [
    {
     "data": {
      "text/plain": [
       "0.022634819687450673"
      ]
     },
     "execution_count": 228,
     "metadata": {},
     "output_type": "execute_result"
    }
   ],
   "source": [
    "var.statistic"
   ]
  },
  {
   "cell_type": "markdown",
   "id": "ddc8ec7a-cddd-469c-a029-1cc55fbf0175",
   "metadata": {},
   "source": [
    "## Levenes test to check HBB values across wells"
   ]
  },
  {
   "cell_type": "code",
   "execution_count": 229,
   "id": "6667664b-899d-4c35-8910-e6cd5c4f528a",
   "metadata": {},
   "outputs": [],
   "source": [
    "var = stats.levene(group1_fourth_step['floq_HBB1 Ct'], group1_fourth_step['evalyn_HBB1 Ct'], \n",
    "                   group1_fourth_step['floq_HBB2 Ct'], group1_fourth_step['evalyn_HBB2 Ct'],\n",
    "                   group1_fourth_step['floq_HBB3 Ct'], group1_fourth_step['evalyn_HBB3 Ct'],\n",
    "                   center='mean')"
   ]
  },
  {
   "cell_type": "code",
   "execution_count": 230,
   "id": "f87b18e9-7290-4f52-865c-22e9a84169fc",
   "metadata": {},
   "outputs": [
    {
     "data": {
      "text/plain": [
       "0.5645237051262824"
      ]
     },
     "execution_count": 230,
     "metadata": {},
     "output_type": "execute_result"
    }
   ],
   "source": [
    "var.pvalue"
   ]
  },
  {
   "cell_type": "code",
   "execution_count": 231,
   "id": "3763897d-0ae9-4f9e-8073-2bee0cd43aa6",
   "metadata": {},
   "outputs": [],
   "source": [
    "var = stats.levene(group2_fourth_step['emily_HBB1 Ct'], group2_fourth_step['evalyn_HBB1 Ct'],\n",
    "                   group2_fourth_step['emily_HBB2 Ct'], group2_fourth_step['evalyn_HBB2 Ct'],\n",
    "                   group2_fourth_step['emily_HBB3 Ct'], group2_fourth_step['evalyn_HBB3 Ct'], center='mean')"
   ]
  },
  {
   "cell_type": "code",
   "execution_count": 232,
   "id": "72ff6654-9624-40a9-a251-39a0a03a3d57",
   "metadata": {},
   "outputs": [
    {
     "data": {
      "text/plain": [
       "0.28092427423124905"
      ]
     },
     "execution_count": 232,
     "metadata": {},
     "output_type": "execute_result"
    }
   ],
   "source": [
    "var.pvalue"
   ]
  },
  {
   "cell_type": "code",
   "execution_count": 233,
   "id": "5787b460-2b19-436b-839d-df4754c2da8f",
   "metadata": {},
   "outputs": [],
   "source": [
    "var = stats.levene(group3_fourth_step['floq_HBB1 Ct'], group3_fourth_step['emily_HBB1 Ct'],\n",
    "                   group3_fourth_step['floq_HBB2 Ct'], group3_fourth_step['emily_HBB2 Ct'],\n",
    "                   group3_fourth_step['floq_HBB3 Ct'], group3_fourth_step['emily_HBB3 Ct'], center='mean')"
   ]
  },
  {
   "cell_type": "code",
   "execution_count": 234,
   "id": "053bde30-bfe2-479c-821b-a9144b00fe3e",
   "metadata": {},
   "outputs": [
    {
     "data": {
      "text/plain": [
       "0.9779127828878215"
      ]
     },
     "execution_count": 234,
     "metadata": {},
     "output_type": "execute_result"
    }
   ],
   "source": [
    "var.pvalue"
   ]
  },
  {
   "cell_type": "markdown",
   "id": "96571cfb-e76b-4f51-8966-e292ddf351af",
   "metadata": {},
   "source": [
    "Conclusion regarding assumptions:The requirements from each assumption where met. T test and ANOVA test where performed."
   ]
  },
  {
   "cell_type": "markdown",
   "id": "8440d045-0bc2-4878-8d5a-1f5e84efe6fc",
   "metadata": {},
   "source": [
    "## T test between identical brushes"
   ]
  },
  {
   "cell_type": "markdown",
   "id": "00d74066-29f3-48e8-8951-745c8a8861c7",
   "metadata": {},
   "source": [
    "### FloqSwab"
   ]
  },
  {
   "cell_type": "code",
   "execution_count": 235,
   "id": "dbe4d911-0c06-49e6-b0bf-6d4e8044caff",
   "metadata": {},
   "outputs": [
    {
     "data": {
      "text/plain": [
       "TtestResult(statistic=0.9748483947109852, pvalue=0.3300671609682734, df=546.0)"
      ]
     },
     "execution_count": 235,
     "metadata": {},
     "output_type": "execute_result"
    }
   ],
   "source": [
    "stats.ttest_ind(group1_fourth_step['floq_HBB1 Ct'], group3_fourth_step['floq_HBB1 Ct'], equal_var = True)"
   ]
  },
  {
   "cell_type": "code",
   "execution_count": 236,
   "id": "40f13c31-7e68-4887-9cdb-d48e6de5bcf3",
   "metadata": {},
   "outputs": [
    {
     "data": {
      "text/plain": [
       "TtestResult(statistic=1.2840980868740322, pvalue=0.19965224791603478, df=546.0)"
      ]
     },
     "execution_count": 236,
     "metadata": {},
     "output_type": "execute_result"
    }
   ],
   "source": [
    "stats.ttest_ind(group1_fourth_step['floq_HBB2 Ct'], group3_fourth_step['floq_HBB2 Ct'], equal_var = True)"
   ]
  },
  {
   "cell_type": "code",
   "execution_count": 237,
   "id": "2208f0ce-340a-46cb-a6d6-3f55419b82fd",
   "metadata": {},
   "outputs": [
    {
     "data": {
      "text/plain": [
       "TtestResult(statistic=0.9692776962481477, pvalue=0.33283581601009693, df=546.0)"
      ]
     },
     "execution_count": 237,
     "metadata": {},
     "output_type": "execute_result"
    }
   ],
   "source": [
    "stats.ttest_ind(group1_fourth_step['floq_HBB3 Ct'], group3_fourth_step['floq_HBB3 Ct'], equal_var = True)"
   ]
  },
  {
   "cell_type": "markdown",
   "id": "3bca2bf3-3203-4a7b-9ab9-decf708f9002",
   "metadata": {},
   "source": [
    "### Evalyn"
   ]
  },
  {
   "cell_type": "code",
   "execution_count": 238,
   "id": "c7c3353f-2e0c-4f04-875b-f23dcc9e40c6",
   "metadata": {},
   "outputs": [
    {
     "data": {
      "text/plain": [
       "TtestResult(statistic=0.11440575408209536, pvalue=0.9089420146336951, df=888.0)"
      ]
     },
     "execution_count": 238,
     "metadata": {},
     "output_type": "execute_result"
    }
   ],
   "source": [
    "stats.ttest_ind(group1_fourth_step['evalyn_HBB1 Ct'], group2_fourth_step['evalyn_HBB1 Ct'], equal_var = True)"
   ]
  },
  {
   "cell_type": "code",
   "execution_count": 239,
   "id": "cbdd9f01-86d9-4143-959f-e8091e895fee",
   "metadata": {},
   "outputs": [
    {
     "data": {
      "text/plain": [
       "TtestResult(statistic=0.32580634315376905, pvalue=0.7446476372846798, df=888.0)"
      ]
     },
     "execution_count": 239,
     "metadata": {},
     "output_type": "execute_result"
    }
   ],
   "source": [
    "stats.ttest_ind(group1_fourth_step['evalyn_HBB2 Ct'], group2_fourth_step['evalyn_HBB2 Ct'], equal_var = True)"
   ]
  },
  {
   "cell_type": "code",
   "execution_count": 240,
   "id": "9acfea31-133d-4653-bead-9f7b66947139",
   "metadata": {},
   "outputs": [
    {
     "data": {
      "text/plain": [
       "TtestResult(statistic=-0.02954652506632337, pvalue=0.9764353524696343, df=888.0)"
      ]
     },
     "execution_count": 240,
     "metadata": {},
     "output_type": "execute_result"
    }
   ],
   "source": [
    "stats.ttest_ind(group1_fourth_step['evalyn_HBB3 Ct'], group2_fourth_step['evalyn_HBB3 Ct'], equal_var = True)"
   ]
  },
  {
   "cell_type": "markdown",
   "id": "84d0206a-55eb-46f7-bc37-a94d10e872f3",
   "metadata": {},
   "source": [
    "### Emily"
   ]
  },
  {
   "cell_type": "code",
   "execution_count": 241,
   "id": "2735b803-dec5-4edb-8571-23116d215645",
   "metadata": {},
   "outputs": [
    {
     "data": {
      "text/plain": [
       "TtestResult(statistic=0.039152759930434086, pvalue=0.9687783895749191, df=798.0)"
      ]
     },
     "execution_count": 241,
     "metadata": {},
     "output_type": "execute_result"
    }
   ],
   "source": [
    "stats.ttest_ind(group2_fourth_step['emily_HBB1 Ct'], group3_fourth_step['emily_HBB1 Ct'], equal_var = True)"
   ]
  },
  {
   "cell_type": "code",
   "execution_count": 242,
   "id": "288708aa-2377-4c75-9617-7a448af5fda4",
   "metadata": {},
   "outputs": [
    {
     "data": {
      "text/plain": [
       "TtestResult(statistic=0.0008018908910415538, pvalue=0.9993603841194992, df=798.0)"
      ]
     },
     "execution_count": 242,
     "metadata": {},
     "output_type": "execute_result"
    }
   ],
   "source": [
    "stats.ttest_ind(group2_fourth_step['emily_HBB2 Ct'], group3_fourth_step['emily_HBB2 Ct'], equal_var = True)"
   ]
  },
  {
   "cell_type": "code",
   "execution_count": 243,
   "id": "135da547-c7cc-486a-b970-e2a3b8b88f55",
   "metadata": {},
   "outputs": [
    {
     "data": {
      "text/plain": [
       "TtestResult(statistic=-0.13863943159338368, pvalue=0.8897700598350677, df=798.0)"
      ]
     },
     "execution_count": 243,
     "metadata": {},
     "output_type": "execute_result"
    }
   ],
   "source": [
    "stats.ttest_ind(group2_fourth_step['emily_HBB3 Ct'], group3_fourth_step['emily_HBB3 Ct'], equal_var = True)"
   ]
  },
  {
   "cell_type": "markdown",
   "id": "f40c7b21-898e-40f1-aff8-c7c96aa51990",
   "metadata": {},
   "source": [
    "## ANOVA test to check equality of means between HBB values from the same brush in the same group"
   ]
  },
  {
   "cell_type": "code",
   "execution_count": 244,
   "id": "0c34d929-a3e2-41c4-94aa-02926905fc53",
   "metadata": {},
   "outputs": [
    {
     "data": {
      "text/plain": [
       "F_onewayResult(statistic=0.6135955486116819, pvalue=0.5416142573820933)"
      ]
     },
     "execution_count": 244,
     "metadata": {},
     "output_type": "execute_result"
    }
   ],
   "source": [
    "stats.f_oneway(group1_fourth_step['floq_HBB1 Ct'], group1_fourth_step['floq_HBB2 Ct'], group1_fourth_step['floq_HBB3 Ct'])"
   ]
  },
  {
   "cell_type": "code",
   "execution_count": 245,
   "id": "6735c55b-b815-410a-b109-8d6413288d73",
   "metadata": {},
   "outputs": [
    {
     "data": {
      "text/plain": [
       "F_onewayResult(statistic=0.24304583050103987, pvalue=0.7843032696615235)"
      ]
     },
     "execution_count": 245,
     "metadata": {},
     "output_type": "execute_result"
    }
   ],
   "source": [
    "stats.f_oneway(group3_fourth_step['floq_HBB1 Ct'], group3_fourth_step['floq_HBB2 Ct'], group3_fourth_step['floq_HBB3 Ct'])"
   ]
  },
  {
   "cell_type": "code",
   "execution_count": 246,
   "id": "6719586d-0e48-4d50-becc-3789df105eb5",
   "metadata": {},
   "outputs": [
    {
     "data": {
      "text/plain": [
       "F_onewayResult(statistic=0.7023834996888162, pvalue=0.4955459706825476)"
      ]
     },
     "execution_count": 246,
     "metadata": {},
     "output_type": "execute_result"
    }
   ],
   "source": [
    "stats.f_oneway(group2_fourth_step['emily_HBB1 Ct'], group2_fourth_step['emily_HBB2 Ct'], group2_fourth_step['emily_HBB3 Ct'])"
   ]
  },
  {
   "cell_type": "code",
   "execution_count": 247,
   "id": "57955bd6-143c-42c5-87d0-265b62e634cf",
   "metadata": {},
   "outputs": [
    {
     "data": {
      "text/plain": [
       "F_onewayResult(statistic=0.2342839554875827, pvalue=0.7912005962417236)"
      ]
     },
     "execution_count": 247,
     "metadata": {},
     "output_type": "execute_result"
    }
   ],
   "source": [
    "stats.f_oneway(group3_fourth_step['emily_HBB1 Ct'], group3_fourth_step['emily_HBB2 Ct'], group3_fourth_step['emily_HBB3 Ct'])"
   ]
  },
  {
   "cell_type": "code",
   "execution_count": 248,
   "id": "764730dc-f30d-4908-a7ad-9f4c5b056350",
   "metadata": {},
   "outputs": [
    {
     "data": {
      "text/plain": [
       "F_onewayResult(statistic=0.9437525713673413, pvalue=0.38952774425328474)"
      ]
     },
     "execution_count": 248,
     "metadata": {},
     "output_type": "execute_result"
    }
   ],
   "source": [
    "stats.f_oneway(group1_fourth_step['evalyn_HBB1 Ct'], group1_fourth_step['evalyn_HBB2 Ct'], group1_fourth_step['evalyn_HBB3 Ct'])"
   ]
  },
  {
   "cell_type": "code",
   "execution_count": 249,
   "id": "f8255616-0ad7-4992-b04a-a1426f3c4df7",
   "metadata": {},
   "outputs": [
    {
     "data": {
      "text/plain": [
       "F_onewayResult(statistic=0.9164985541983395, pvalue=0.40011323091210693)"
      ]
     },
     "execution_count": 249,
     "metadata": {},
     "output_type": "execute_result"
    }
   ],
   "source": [
    "stats.f_oneway(group2_fourth_step['evalyn_HBB1 Ct'], group2_fourth_step['evalyn_HBB2 Ct'], group2_fourth_step['evalyn_HBB3 Ct'])"
   ]
  },
  {
   "cell_type": "code",
   "execution_count": 250,
   "id": "fa6f53ba-5d02-4f9d-957c-3266925871da",
   "metadata": {},
   "outputs": [
    {
     "name": "stdout",
     "output_type": "stream",
     "text": [
      "Number of evalyn brushes: 890\n",
      "Number of emily brushes: 800\n",
      "Number of floq brushes: 548\n"
     ]
    }
   ],
   "source": [
    "print(f'Number of evalyn brushes: {len(group1_fourth_step)+len(group2_fourth_step)}')\n",
    "print(f'Number of emily brushes: {len(group2_fourth_step) + len(group3_fourth_step)}')\n",
    "print(f'Number of floq brushes: {len(group1_fourth_step) + len(group3_fourth_step)}')"
   ]
  },
  {
   "cell_type": "markdown",
   "id": "80cde13f-6c47-4e86-a77a-210e2cc313a6",
   "metadata": {},
   "source": [
    "With P-values varying from 0.2 to 0.92 shows equal means, and merging HBB values across different groups and HBB values from the same brush and different wells is justified. "
   ]
  }
 ],
 "metadata": {
  "kernelspec": {
   "display_name": "Python 3 (ipykernel)",
   "language": "python",
   "name": "python3"
  },
  "language_info": {
   "codemirror_mode": {
    "name": "ipython",
    "version": 3
   },
   "file_extension": ".py",
   "mimetype": "text/x-python",
   "name": "python",
   "nbconvert_exporter": "python",
   "pygments_lexer": "ipython3",
   "version": "3.10.5"
  }
 },
 "nbformat": 4,
 "nbformat_minor": 5
}
